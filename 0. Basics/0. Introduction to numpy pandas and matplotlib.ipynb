{
 "cells": [
  {
   "cell_type": "markdown",
   "metadata": {},
   "source": [
    "<center>\n",
    "<img src=\"img/numpy_pandas.png\">"
   ]
  },
  {
   "cell_type": "markdown",
   "metadata": {},
   "source": [
    "**NumPy** и **Pandas** являются основными библиотеками для проведения анализа и обработки данных на языке Python.\n",
    "\n",
    "**NumPy** позволяет проводить вычислительно эффективные операции с многомерными массивами. В свою очередь, **Pandas** использует функционал NumPy и предоставляет возможности удобной работы с табличными данными и временными рядами. Многие операции в Pandas являются аналогами запросов языка SQL.\n",
    "\n",
    "Для визуального анализа широко применяются библиотеки **Matplotlib** и **Seaborn**, возможности которых будут рассмотрены позже. Подгрузим необходимые для работы библиотеки с помощью следующего кода:"
   ]
  },
  {
   "cell_type": "code",
   "execution_count": 7,
   "metadata": {},
   "outputs": [],
   "source": [
    "import numpy as np\n",
    "import pandas as pd\n",
    "\n",
    "import matplotlib.pyplot as plt\n",
    "%matplotlib inline"
   ]
  },
  {
   "cell_type": "markdown",
   "metadata": {},
   "source": [
    "Magic-команда `%matplotlib inline` позволяет производить отрисовку графиков прямо внутри Jupyter-ноутбука.\n",
    "\n",
    "В данном ноутбуке будут предемонстрированы основные возможности библиотек NumPy, Pandas и Matplotlib для работы с табличными данными и временными рядами."
   ]
  },
  {
   "cell_type": "markdown",
   "metadata": {},
   "source": [
    "# Содержание\n",
    "---\n",
    "\n",
    "<p>1. <a href=\"#numpy\"><font size='4'>Библиотека NumPy</font></a></p>\n",
    "<ul>\n",
    "\n",
    "<p>1.1. <a href=\"#create\"><font size='3'>Создание массивов</font></a></p>\n",
    "\n",
    "<p>1.2. <a href=\"#oper\"><font size='3'>Операции над массивами</font></a></p>\n",
    "\n",
    "<p>1.3. <a href=\"#idx\"><font size='3'>Индексация</font></a></p>\n",
    "    <p></p>\n",
    "<ul>\n",
    "<p>1.3.1. <a href=\"#slice\">Элементы и срезы</a></p>\n",
    "<p>1.3.2. <a href=\"#mask\">Индексация с помощью масок</a></p>\n",
    "<p>1.3.3. <a href=\"#int\">Индексация массивом целых чисел</a></p>\n",
    "</ul>\n",
    "\n",
    "\n",
    "</ul>\n",
    "\n",
    "\n",
    "<p>2. <a href=\"#pandas\"><font size='4'>Работа с табличными данными в Pandas</font></a>\n",
    "<ul>\n",
    "\n",
    "<p>2.1. <a href=\"#import\"><font size='3'>Загрузка данных</font></a></p>\n",
    "\n",
    "<p>2.2. <a href=\"#select\"><font size='3'>Извлечение данных</font></a></p>\n",
    "    <p></p>\n",
    "<ul>\n",
    "<p>2.2.1. <a href=\"#loc\">Индексация с помощью loc и iloc</a></p>\n",
    "<p>2.2.2. <a href=\"#bool\">Булева индексация</a></p>\n",
    "</ul>\n",
    "\n",
    "<p>2.3. <a href=\"#append\"><font size='3'>Добавление и удаление записей</font></a></p>\n",
    "\n",
    "<p>2.4. <a href=\"#fillna\"><font size='3'>Заполнение пропусков</font></a></p>\n",
    "\n",
    "<p>2.5. <a href=\"#group\"><font size='3'>Группировка данных</font></a></p>\n",
    "\n",
    "</ul>"
   ]
  },
  {
   "cell_type": "markdown",
   "metadata": {},
   "source": [
    "# 1. Библиотека <a href='http://www.numpy.org/'>NumPy</a>\n",
    "---\n",
    "<p><a name=\"numpy\"></a></p>\n",
    "\n",
    "\n",
    "Библиотека NumPy обладает неоспоримым преимуществом по сравнению со стандартными библиотеками Python. Для наглядной демонстрации создадим список из миллиона элементов стандартным способом и с помощью функции `np.arange` из NumPy, после чего возьмем синус каждого из элементов."
   ]
  },
  {
   "cell_type": "code",
   "execution_count": 8,
   "metadata": {},
   "outputs": [],
   "source": [
    "import math"
   ]
  },
  {
   "cell_type": "code",
   "execution_count": 9,
   "metadata": {},
   "outputs": [
    {
     "name": "stdout",
     "output_type": "stream",
     "text": [
      "346 µs ± 19 µs per loop (mean ± std. dev. of 7 runs, 1000 loops each)\n"
     ]
    }
   ],
   "source": [
    "theta = [0.01 * i for i in range(10**3)]\n",
    "%timeit [math.sin(t) for t in theta]"
   ]
  },
  {
   "cell_type": "code",
   "execution_count": 10,
   "metadata": {},
   "outputs": [
    {
     "name": "stdout",
     "output_type": "stream",
     "text": [
      "17 µs ± 1.5 µs per loop (mean ± std. dev. of 7 runs, 100000 loops each)\n"
     ]
    }
   ],
   "source": [
    "theta_np = 0.01 * np.arange(10**3)\n",
    "%timeit np.sin(theta_np)"
   ]
  },
  {
   "cell_type": "markdown",
   "metadata": {},
   "source": [
    "Как видно из данного примера, математические операции, реализованные на языке Python, часто работают гораздо медленнее тех же алгоритмов, реализованных в NumPy. Более того, NumPy предоставляет реализации функций, оптимизированные для работы напрямую с многомерными массивами.\n",
    "\n",
    "Справка по библиотеке и её функциям доступна внутри ноутбука через команду `?_`."
   ]
  },
  {
   "cell_type": "code",
   "execution_count": 11,
   "metadata": {},
   "outputs": [],
   "source": [
    "?np.arange"
   ]
  },
  {
   "cell_type": "markdown",
   "metadata": {},
   "source": [
    "## 1.1. Создание массивов\n",
    "<p><a name=\"create\"></a></p>"
   ]
  },
  {
   "cell_type": "markdown",
   "metadata": {},
   "source": [
    "Основным объектом NumPy является многомерный массив. Создавать массивы NumPy можно из стандартных списков Python, применив к ним функцию `np.array`, преобразующую массив к объекту `ndarray`. Вложенные списки будут преобазованы в многомерные массивы."
   ]
  },
  {
   "cell_type": "code",
   "execution_count": 12,
   "metadata": {},
   "outputs": [
    {
     "data": {
      "text/plain": [
       "numpy.ndarray"
      ]
     },
     "execution_count": 12,
     "metadata": {},
     "output_type": "execute_result"
    }
   ],
   "source": [
    "a = np.array([1, 2, 3, 4])\n",
    "type(a)"
   ]
  },
  {
   "cell_type": "code",
   "execution_count": 13,
   "metadata": {},
   "outputs": [
    {
     "data": {
      "text/plain": [
       "array([[1, 2, 3],\n",
       "       [4, 5, 6],\n",
       "       [7, 8, 9]])"
      ]
     },
     "execution_count": 13,
     "metadata": {},
     "output_type": "execute_result"
    }
   ],
   "source": [
    "b = np.array([[1, 2, 3], [4, 5, 6], [7, 8, 9]])\n",
    "b"
   ]
  },
  {
   "cell_type": "markdown",
   "metadata": {},
   "source": [
    "Массивы в NumPy имеют такие важные атрибуты, как:\n",
    "- `ndarray.shape` &ndash; выводит кортеж из чисел, показывающий длину массива по каждой оси;\n",
    "- `ndarray.size` &ndash; выводит количество элементов массива;\n",
    "- `ndarray.dtype` &ndash; описывает тип элементов массива. Тип можно определить как в момент создания массива, так и переопределить в дальнейшем."
   ]
  },
  {
   "cell_type": "code",
   "execution_count": 14,
   "metadata": {},
   "outputs": [
    {
     "name": "stdout",
     "output_type": "stream",
     "text": [
      "(3, 3)\n",
      "9\n"
     ]
    }
   ],
   "source": [
    "print(b.shape)\n",
    "print(b.size)"
   ]
  },
  {
   "cell_type": "code",
   "execution_count": 15,
   "metadata": {},
   "outputs": [
    {
     "data": {
      "text/plain": [
       "dtype('int32')"
      ]
     },
     "execution_count": 15,
     "metadata": {},
     "output_type": "execute_result"
    }
   ],
   "source": [
    "a.dtype"
   ]
  },
  {
   "cell_type": "code",
   "execution_count": 16,
   "metadata": {},
   "outputs": [
    {
     "data": {
      "text/plain": [
       "dtype('float64')"
      ]
     },
     "execution_count": 16,
     "metadata": {},
     "output_type": "execute_result"
    }
   ],
   "source": [
    "a = np.array([1, 2, 3], dtype=float)\n",
    "a.dtype"
   ]
  },
  {
   "cell_type": "markdown",
   "metadata": {},
   "source": [
    "Для создания последовательностей чисел с некоторым шагом используется функция `np.arange()`, аналогичная функции `range()` в Python, однако шаг может принимать и вещественные значения. Важно отметить, что последний элемент не влючается в массив."
   ]
  },
  {
   "cell_type": "code",
   "execution_count": 17,
   "metadata": {},
   "outputs": [
    {
     "data": {
      "text/plain": [
       "array([0. , 0.2, 0.4, 0.6, 0.8, 1. , 1.2, 1.4, 1.6, 1.8, 2. , 2.2, 2.4,\n",
       "       2.6, 2.8, 3. , 3.2, 3.4, 3.6, 3.8, 4. , 4.2, 4.4, 4.6, 4.8])"
      ]
     },
     "execution_count": 17,
     "metadata": {},
     "output_type": "execute_result"
    }
   ],
   "source": [
    "np.arange(0, 5, 0.2)"
   ]
  },
  {
   "cell_type": "markdown",
   "metadata": {},
   "source": [
    "Для создания равномерной сетки элементов в NumPy существует функция `np.linspace`, принимающая в качестве последнего аргумента число элементов, которое необходимо получить. При этом, по умолчанию, последнее значение также включается в массив."
   ]
  },
  {
   "cell_type": "code",
   "execution_count": 18,
   "metadata": {},
   "outputs": [
    {
     "data": {
      "text/plain": [
       "array([0. , 0.5, 1. , 1.5, 2. , 2.5, 3. , 3.5, 4. , 4.5, 5. ])"
      ]
     },
     "execution_count": 18,
     "metadata": {},
     "output_type": "execute_result"
    }
   ],
   "source": [
    "np.linspace(0, 5, 11)"
   ]
  },
  {
   "cell_type": "code",
   "execution_count": 19,
   "metadata": {},
   "outputs": [
    {
     "data": {
      "text/plain": [
       "array([0.        , 0.45454545, 0.90909091, 1.36363636, 1.81818182,\n",
       "       2.27272727, 2.72727273, 3.18181818, 3.63636364, 4.09090909,\n",
       "       4.54545455])"
      ]
     },
     "execution_count": 19,
     "metadata": {},
     "output_type": "execute_result"
    }
   ],
   "source": [
    "np.linspace(0, 5, 11, endpoint=False)"
   ]
  },
  {
   "cell_type": "markdown",
   "metadata": {},
   "source": [
    "Можно изменить размерность полученного массива. Для этого используется атрибут `ndarray.reshape`:"
   ]
  },
  {
   "cell_type": "code",
   "execution_count": 20,
   "metadata": {},
   "outputs": [
    {
     "data": {
      "text/plain": [
       "array([[ 0,  1,  2,  3,  4],\n",
       "       [ 5,  6,  7,  8,  9],\n",
       "       [10, 11, 12, 13, 14],\n",
       "       [15, 16, 17, 18, 19]])"
      ]
     },
     "execution_count": 20,
     "metadata": {},
     "output_type": "execute_result"
    }
   ],
   "source": [
    "c = np.arange(20).reshape(4, 5)\n",
    "c"
   ]
  },
  {
   "cell_type": "markdown",
   "metadata": {},
   "source": [
    "Иногда возникает ситуация, когда элементы массива неизвестны, а массив для последующий записи на определенные позиции новых элементов уже нужен. Для создания таких массивов можно воспользоваться функциями `np.zeros`, `np.ones`, `np.eye`, которые возвращают массивы из нулей, единиц и единичную матрицу соответственно. Тип массива при этом $-$ `float64`."
   ]
  },
  {
   "cell_type": "code",
   "execution_count": 15,
   "metadata": {},
   "outputs": [
    {
     "data": {
      "text/plain": [
       "(array([0., 0., 0., 0., 0., 0., 0., 0., 0., 0.]), dtype('float64'))"
      ]
     },
     "execution_count": 15,
     "metadata": {},
     "output_type": "execute_result"
    }
   ],
   "source": [
    "d = np.zeros(10)\n",
    "d, d.dtype"
   ]
  },
  {
   "cell_type": "code",
   "execution_count": 16,
   "metadata": {},
   "outputs": [
    {
     "data": {
      "text/plain": [
       "(array([[0, 0, 0, 0],\n",
       "        [0, 0, 0, 0],\n",
       "        [0, 0, 0, 0]]),\n",
       " dtype('int32'))"
      ]
     },
     "execution_count": 16,
     "metadata": {},
     "output_type": "execute_result"
    }
   ],
   "source": [
    "e = np.zeros((3,4), dtype='int32')\n",
    "e, e.dtype"
   ]
  },
  {
   "cell_type": "code",
   "execution_count": 17,
   "metadata": {},
   "outputs": [
    {
     "data": {
      "text/plain": [
       "array([1., 1., 1., 1., 1., 1., 1., 1., 1., 1.])"
      ]
     },
     "execution_count": 17,
     "metadata": {},
     "output_type": "execute_result"
    }
   ],
   "source": [
    "np.ones(10)"
   ]
  },
  {
   "cell_type": "code",
   "execution_count": 18,
   "metadata": {},
   "outputs": [
    {
     "data": {
      "text/plain": [
       "array([[1., 0., 0., 0., 0.],\n",
       "       [0., 1., 0., 0., 0.],\n",
       "       [0., 0., 1., 0., 0.],\n",
       "       [0., 0., 0., 1., 0.],\n",
       "       [0., 0., 0., 0., 1.]])"
      ]
     },
     "execution_count": 18,
     "metadata": {},
     "output_type": "execute_result"
    }
   ],
   "source": [
    "np.eye(5)"
   ]
  },
  {
   "cell_type": "markdown",
   "metadata": {},
   "source": [
    "Также есть возможность создать диагональную матрицу с помощью функции `np.diag`, указав элементы, стоящие на главной диагонали. Данная функция может оказаться полезной для корректного выполнения операции скалярного произведения."
   ]
  },
  {
   "cell_type": "code",
   "execution_count": 19,
   "metadata": {},
   "outputs": [
    {
     "data": {
      "text/plain": [
       "array([[1, 0, 0, 0],\n",
       "       [0, 2, 0, 0],\n",
       "       [0, 0, 3, 0],\n",
       "       [0, 0, 0, 4]])"
      ]
     },
     "execution_count": 19,
     "metadata": {},
     "output_type": "execute_result"
    }
   ],
   "source": [
    "np.diag(np.array([1, 2, 3, 4]))"
   ]
  },
  {
   "cell_type": "markdown",
   "metadata": {},
   "source": [
    "При необходимости инициализировать массив случайными значениями можно воспользоваться модулем <a href='https://docs.scipy.org/doc/numpy-1.15.0/reference/routines.random.html'>`np.random`</a>. Этот модуль содержит множество полезных функций, например:\n",
    "- `rand(n,m,...)` &ndash; возвращает массив из $n\\times m$ $\\times\\ldots$ случайных значений;\n",
    "- `randn(n,m,...)` &ndash; возвращает массив из $n\\times m$ $\\times\\ldots$ случайных значений из стандартного нормального распределения;\n",
    "- `randint(low[, high, size, dtype])` &ndash; возвращает массив случайных целых чисел на заданном интервале;\n",
    "- `choice(a[, size, replace, p])`  &ndash; генерирует случайное множество значений размера `size`, список `p` при этом показывает, с какой вероятностью каждый элемент будет включен в массив. Опция `replace` указывает, могут ли элементы в полученном массиве повторяться;\n",
    "- `shuffle(x)` &ndash; случайно перемешивает элементы массива, меняя исходный массив."
   ]
  },
  {
   "cell_type": "code",
   "execution_count": 20,
   "metadata": {},
   "outputs": [
    {
     "data": {
      "text/plain": [
       "array([0.30774478, 0.84652914, 0.96001254, 0.5383567 , 0.35766156,\n",
       "       0.38358939, 0.13416499, 0.87476441, 0.09205068, 0.82699312])"
      ]
     },
     "execution_count": 20,
     "metadata": {},
     "output_type": "execute_result"
    }
   ],
   "source": [
    "np.random.rand(10)"
   ]
  },
  {
   "cell_type": "code",
   "execution_count": 21,
   "metadata": {},
   "outputs": [
    {
     "data": {
      "text/plain": [
       "array([[0.65521803, 0.34872022, 0.18822535],\n",
       "       [0.35071304, 0.72075562, 0.21696508]])"
      ]
     },
     "execution_count": 21,
     "metadata": {},
     "output_type": "execute_result"
    }
   ],
   "source": [
    "np.random.rand(2, 3)"
   ]
  },
  {
   "cell_type": "code",
   "execution_count": 17,
   "metadata": {},
   "outputs": [
    {
     "data": {
      "text/plain": [
       "array([-10, -11,  15,   0,  -5,  -4,   5, -19,  -9,  -7])"
      ]
     },
     "execution_count": 17,
     "metadata": {},
     "output_type": "execute_result"
    }
   ],
   "source": [
    "np.random.seed(6)\n",
    "f = np.random.randint(-20, 20, 10)\n",
    "f"
   ]
  },
  {
   "cell_type": "code",
   "execution_count": 19,
   "metadata": {},
   "outputs": [
    {
     "data": {
      "text/plain": [
       "array([ -7,   0,  -5, -10,  -7])"
      ]
     },
     "execution_count": 19,
     "metadata": {},
     "output_type": "execute_result"
    }
   ],
   "source": [
    "np.random.seed(6)\n",
    "np.random.choice(f, 5)"
   ]
  },
  {
   "cell_type": "code",
   "execution_count": 20,
   "metadata": {},
   "outputs": [
    {
     "data": {
      "text/plain": [
       "array([ -4,   0,  15, -10,  -9])"
      ]
     },
     "execution_count": 20,
     "metadata": {},
     "output_type": "execute_result"
    }
   ],
   "source": [
    "np.random.choice(f, 5, replace=False)"
   ]
  },
  {
   "cell_type": "code",
   "execution_count": 21,
   "metadata": {},
   "outputs": [
    {
     "data": {
      "text/plain": [
       "array([-10,  -7,   0,   5, -11,  -9, -19,  -4,  15,  -5])"
      ]
     },
     "execution_count": 21,
     "metadata": {},
     "output_type": "execute_result"
    }
   ],
   "source": [
    "np.random.shuffle(f)\n",
    "f"
   ]
  },
  {
   "cell_type": "markdown",
   "metadata": {},
   "source": [
    "Многие алгоритмы построения предсказательных и прогнозных моделей требуют инициализации начальных значений параметров случайными значениями. Чтобы была возможность воспроизвести полученные результаты не стоит забывать фиксировать `seed` перед генерацией случайных чисел."
   ]
  },
  {
   "cell_type": "code",
   "execution_count": 26,
   "metadata": {},
   "outputs": [
    {
     "data": {
      "text/plain": [
       "array([0.37454012, 0.95071431, 0.73199394, 0.59865848, 0.15601864,\n",
       "       0.15599452, 0.05808361, 0.86617615, 0.60111501, 0.70807258])"
      ]
     },
     "execution_count": 26,
     "metadata": {},
     "output_type": "execute_result"
    }
   ],
   "source": [
    "np.random.seed(42)\n",
    "np.random.rand(10)"
   ]
  },
  {
   "cell_type": "code",
   "execution_count": 27,
   "metadata": {},
   "outputs": [
    {
     "data": {
      "text/plain": [
       "array([0.37454012, 0.95071431, 0.73199394, 0.59865848, 0.15601864,\n",
       "       0.15599452, 0.05808361, 0.86617615, 0.60111501, 0.70807258])"
      ]
     },
     "execution_count": 27,
     "metadata": {},
     "output_type": "execute_result"
    }
   ],
   "source": [
    "np.random.seed(42)\n",
    "np.random.rand(10)"
   ]
  },
  {
   "cell_type": "markdown",
   "metadata": {},
   "source": [
    "## 1.2. Операции над массивами\n",
    "<p><a name=\"oper\"></a></p>"
   ]
  },
  {
   "cell_type": "markdown",
   "metadata": {},
   "source": [
    "По сравнению со стандартными возможностями Python, в NumPy любые операции могут быть применены ко всему массиву сразу без необходимости прописывать цикл. В NumPy также доступны все базовые математические функции (sin, cos, exp, log и т. д.)."
   ]
  },
  {
   "cell_type": "code",
   "execution_count": 22,
   "metadata": {},
   "outputs": [],
   "source": [
    "x = np.arange(5)\n",
    "y = np.random.random(5)"
   ]
  },
  {
   "cell_type": "code",
   "execution_count": 23,
   "metadata": {},
   "outputs": [
    {
     "name": "stdout",
     "output_type": "stream",
     "text": [
      "[0 1 2 3 4]\n",
      "[1 2 3 4 5]\n"
     ]
    }
   ],
   "source": [
    "print(x)\n",
    "print(x + 1)"
   ]
  },
  {
   "cell_type": "code",
   "execution_count": 24,
   "metadata": {},
   "outputs": [
    {
     "name": "stdout",
     "output_type": "stream",
     "text": [
      "[0.80172091 0.45818458 0.67383468 0.14784469 0.35709527]\n",
      "[0.64275642 0.20993311 0.45405318 0.02185805 0.12751703]\n"
     ]
    }
   ],
   "source": [
    "print(y)\n",
    "print(y ** 2)"
   ]
  },
  {
   "cell_type": "code",
   "execution_count": 31,
   "metadata": {},
   "outputs": [
    {
     "data": {
      "text/plain": [
       "array([ 0.        ,  1.03102365,  2.40256794, 14.128344  , 21.999179  ])"
      ]
     },
     "execution_count": 31,
     "metadata": {},
     "output_type": "execute_result"
    }
   ],
   "source": [
    "x / y"
   ]
  },
  {
   "cell_type": "code",
   "execution_count": 25,
   "metadata": {},
   "outputs": [
    {
     "data": {
      "text/plain": [
       "array([ 1.94765965,  0.28058056,  0.47151175, -1.79097565, -1.43566149])"
      ]
     },
     "execution_count": 25,
     "metadata": {},
     "output_type": "execute_result"
    }
   ],
   "source": [
    "np.cos(x) + np.sin(2 * np.pi * (x - y))"
   ]
  },
  {
   "cell_type": "code",
   "execution_count": 26,
   "metadata": {},
   "outputs": [
    {
     "data": {
      "text/plain": [
       "array([[ 7,  1,  2],\n",
       "       [ 5, 66,  4],\n",
       "       [ 8,  4, 88]])"
      ]
     },
     "execution_count": 26,
     "metadata": {},
     "output_type": "execute_result"
    }
   ],
   "source": [
    "m = np.array([[7, 5, 8], [1, 66, 4], [2, 4, 88]])\n",
    "m.T"
   ]
  },
  {
   "cell_type": "markdown",
   "metadata": {},
   "source": [
    "Вычисление логарифма от аргументов массива может быть произведено с помощью функции `np.log`. Если же элементы массива принимают значения на интервале $[0,\\infty]$, то преобразовать массив можно с помощью функции `np.log1p`, которая вернет `np.log(1 + x)`. Операция потенцирования при этом может быть произведена с помощью функции `np.expm1`."
   ]
  },
  {
   "cell_type": "code",
   "execution_count": 34,
   "metadata": {},
   "outputs": [
    {
     "name": "stdout",
     "output_type": "stream",
     "text": [
      "[-3.88321719 -0.03055215 -0.18339096 -1.5495707  -1.70471077]\n",
      "[0.02058449 0.96990985 0.83244264 0.21233911 0.18182497]\n"
     ]
    }
   ],
   "source": [
    "print(np.log(y))\n",
    "print(np.exp(np.log(y)))"
   ]
  },
  {
   "cell_type": "code",
   "execution_count": 35,
   "metadata": {},
   "outputs": [
    {
     "name": "stdout",
     "output_type": "stream",
     "text": [
      "[0.         0.69314718 1.09861229 1.38629436 1.60943791]\n",
      "[0. 1. 2. 3. 4.]\n"
     ]
    }
   ],
   "source": [
    "print(np.log1p(x))\n",
    "print(np.expm1(np.log1p(x)))"
   ]
  },
  {
   "cell_type": "markdown",
   "metadata": {},
   "source": [
    "## 1.3. Индексация\n",
    "<p><a name=\"idx\"></a></p>\n",
    "\n",
    "### 1.3.1. Элементы и срезы\n",
    "<p><a name=\"slice\"></a></p>"
   ]
  },
  {
   "cell_type": "markdown",
   "metadata": {},
   "source": [
    "К элементам массивов NumPy можно обращаться привычным способом по их индексам и через срезы:"
   ]
  },
  {
   "cell_type": "code",
   "execution_count": 27,
   "metadata": {},
   "outputs": [
    {
     "name": "stdout",
     "output_type": "stream",
     "text": [
      "[0 1 2 3 4]\n",
      "0 2\n"
     ]
    }
   ],
   "source": [
    "print(x)\n",
    "print(x[0], x[2])"
   ]
  },
  {
   "cell_type": "code",
   "execution_count": 30,
   "metadata": {},
   "outputs": [
    {
     "name": "stdout",
     "output_type": "stream",
     "text": [
      "[0 1 2]\n",
      "[0 2 4]\n",
      "[4 3 2 1 0]\n"
     ]
    }
   ],
   "source": [
    "print(x[:3])\n",
    "print(x[::2])\n",
    "print(x[::-1])"
   ]
  },
  {
   "cell_type": "markdown",
   "metadata": {},
   "source": [
    "Получить нужные элементы многомерных массивов `ndarray` можно аналогичным образом, в то время как в Python получить срезы вложенных списков бывает довольно затруднительно."
   ]
  },
  {
   "cell_type": "code",
   "execution_count": 38,
   "metadata": {},
   "outputs": [
    {
     "name": "stdout",
     "output_type": "stream",
     "text": [
      "[[ 7  5  8]\n",
      " [ 1 66  4]\n",
      " [ 2  4 88]]\n",
      "4\n"
     ]
    }
   ],
   "source": [
    "print(m)\n",
    "print(m[1, 2])"
   ]
  },
  {
   "cell_type": "code",
   "execution_count": 31,
   "metadata": {},
   "outputs": [
    {
     "data": {
      "text/plain": [
       "array([[7],\n",
       "       [1]])"
      ]
     },
     "execution_count": 31,
     "metadata": {},
     "output_type": "execute_result"
    }
   ],
   "source": [
    "m[:2, :1]"
   ]
  },
  {
   "cell_type": "code",
   "execution_count": 32,
   "metadata": {},
   "outputs": [
    {
     "data": {
      "text/plain": [
       "array([[ 5,  8],\n",
       "       [66,  4],\n",
       "       [ 4, 88]])"
      ]
     },
     "execution_count": 32,
     "metadata": {},
     "output_type": "execute_result"
    }
   ],
   "source": [
    "m[:, 1:3]"
   ]
  },
  {
   "cell_type": "markdown",
   "metadata": {},
   "source": [
    "### 1.3.2. Индексация с помощью масок\n",
    "<p><a name=\"mask\"></a></p>"
   ]
  },
  {
   "cell_type": "markdown",
   "metadata": {},
   "source": [
    "Индексация с помощью масок позволяет извлекать данные, удовлетворяющие некоторому условию, а также вносить изменения в массив. Такой способ индексации может быть полезным, если в данных имеются выбросы. Например, известно, что все значения в столбце лежат в интервале $[1;10]$, но из-за допущенной ошибки при внесении информации встречаются значения вне данного интервала:"
   ]
  },
  {
   "cell_type": "code",
   "execution_count": 41,
   "metadata": {},
   "outputs": [
    {
     "data": {
      "text/plain": [
       "array([[ 7,  5,  8],\n",
       "       [ 1, 66,  4],\n",
       "       [ 2,  4, 88]])"
      ]
     },
     "execution_count": 41,
     "metadata": {},
     "output_type": "execute_result"
    }
   ],
   "source": [
    "m"
   ]
  },
  {
   "cell_type": "code",
   "execution_count": 42,
   "metadata": {},
   "outputs": [
    {
     "data": {
      "text/plain": [
       "array([[False, False, False],\n",
       "       [False,  True, False],\n",
       "       [False, False,  True]])"
      ]
     },
     "execution_count": 42,
     "metadata": {},
     "output_type": "execute_result"
    }
   ],
   "source": [
    "m > 10"
   ]
  },
  {
   "cell_type": "markdown",
   "metadata": {},
   "source": [
    "Зная особенности данных, можно предположить, на что следует заменить ошибочные значения."
   ]
  },
  {
   "cell_type": "code",
   "execution_count": 34,
   "metadata": {},
   "outputs": [
    {
     "data": {
      "text/plain": [
       "array([[7, 5, 8],\n",
       "       [1, 6, 4],\n",
       "       [2, 4, 8]])"
      ]
     },
     "execution_count": 34,
     "metadata": {},
     "output_type": "execute_result"
    }
   ],
   "source": [
    "m[m > 10] = m[m > 10] % 10\n",
    "m"
   ]
  },
  {
   "cell_type": "markdown",
   "metadata": {},
   "source": [
    "Функция `np.where` позволяет заменить значения, удовлетворяющие условию, на заданное, при этом не изменяя исходный массив. Третий аргумент функции показывает, на что следует заменить остальные значения."
   ]
  },
  {
   "cell_type": "code",
   "execution_count": 44,
   "metadata": {},
   "outputs": [
    {
     "data": {
      "text/plain": [
       "array([[ 0,  0, -1],\n",
       "       [ 0,  0,  0],\n",
       "       [ 0,  0, -1]])"
      ]
     },
     "execution_count": 44,
     "metadata": {},
     "output_type": "execute_result"
    }
   ],
   "source": [
    "np.where(m == 8, -1, 0)"
   ]
  },
  {
   "cell_type": "code",
   "execution_count": 45,
   "metadata": {},
   "outputs": [
    {
     "data": {
      "text/plain": [
       "array([[ 7,  5, -1],\n",
       "       [ 1,  6,  4],\n",
       "       [ 2,  4, -1]])"
      ]
     },
     "execution_count": 45,
     "metadata": {},
     "output_type": "execute_result"
    }
   ],
   "source": [
    "np.where(m == 8, -1, m)"
   ]
  },
  {
   "cell_type": "markdown",
   "metadata": {},
   "source": [
    "<div class=\"alert alert-info\">\n",
    "\n",
    "Запустите следующую ячейку с кодом. Почему получился именно такой результат?\n",
    " \n",
    "</div>"
   ]
  },
  {
   "cell_type": "code",
   "execution_count": 46,
   "metadata": {},
   "outputs": [
    {
     "data": {
      "text/plain": [
       "array([[1, 8],\n",
       "       [3, 4]])"
      ]
     },
     "execution_count": 46,
     "metadata": {},
     "output_type": "execute_result"
    }
   ],
   "source": [
    "np.where([[True, False], [True, True]],\n",
    "         [[1, 2], [3, 4]],\n",
    "         [[9, 8], [7, 6]])"
   ]
  },
  {
   "cell_type": "markdown",
   "metadata": {},
   "source": [
    "### 1.3.3. Индексация массивом целых чисел\n",
    "<p><a name=\"int\"></a></p>"
   ]
  },
  {
   "cell_type": "markdown",
   "metadata": {},
   "source": [
    "К элементам массива также можно обратиться через список индексов. Порядок элементов полученного массива соответствует указанному порядку индексов."
   ]
  },
  {
   "cell_type": "code",
   "execution_count": 47,
   "metadata": {},
   "outputs": [
    {
     "data": {
      "text/plain": [
       "array([ 0, 10, 20, 30, 40, 50, 60, 70, 80, 90])"
      ]
     },
     "execution_count": 47,
     "metadata": {},
     "output_type": "execute_result"
    }
   ],
   "source": [
    "g = np.arange(0, 100, 10)\n",
    "g"
   ]
  },
  {
   "cell_type": "code",
   "execution_count": 48,
   "metadata": {},
   "outputs": [
    {
     "data": {
      "text/plain": [
       "array([20, 30, 10, 40, 30])"
      ]
     },
     "execution_count": 48,
     "metadata": {},
     "output_type": "execute_result"
    }
   ],
   "source": [
    "g[[2, 3, 1, 4, 3]]"
   ]
  },
  {
   "cell_type": "code",
   "execution_count": 49,
   "metadata": {},
   "outputs": [
    {
     "data": {
      "text/plain": [
       "array([[30, 40],\n",
       "       [90, 70]])"
      ]
     },
     "execution_count": 49,
     "metadata": {},
     "output_type": "execute_result"
    }
   ],
   "source": [
    "idx = np.array([[3, 4], [9, 7]])\n",
    "g[idx]"
   ]
  },
  {
   "cell_type": "markdown",
   "metadata": {},
   "source": [
    "Упомянутая выше функция `np.where` позволяет указать лишь один аргумент &ndash; непосредственно условие. В таком случае она возвращает индексы элементов:"
   ]
  },
  {
   "cell_type": "code",
   "execution_count": 50,
   "metadata": {},
   "outputs": [
    {
     "data": {
      "text/plain": [
       "array([[7, 5, 8],\n",
       "       [1, 6, 4],\n",
       "       [2, 4, 8]])"
      ]
     },
     "execution_count": 50,
     "metadata": {},
     "output_type": "execute_result"
    }
   ],
   "source": [
    "m"
   ]
  },
  {
   "cell_type": "code",
   "execution_count": 51,
   "metadata": {},
   "outputs": [
    {
     "data": {
      "text/plain": [
       "(array([0, 2], dtype=int64), array([2, 2], dtype=int64))"
      ]
     },
     "execution_count": 51,
     "metadata": {},
     "output_type": "execute_result"
    }
   ],
   "source": [
    "np.where(m == 8)"
   ]
  },
  {
   "cell_type": "code",
   "execution_count": 67,
   "metadata": {},
   "outputs": [
    {
     "ename": "IndexError",
     "evalue": "invalid index to scalar variable.",
     "output_type": "error",
     "traceback": [
      "\u001b[1;31m---------------------------------------------------------------------------\u001b[0m",
      "\u001b[1;31mIndexError\u001b[0m                                Traceback (most recent call last)",
      "\u001b[1;32m<ipython-input-67-da063594ddc2>\u001b[0m in \u001b[0;36m<module>\u001b[1;34m\u001b[0m\n\u001b[1;32m----> 1\u001b[1;33m \u001b[0mm\u001b[0m\u001b[1;33m[\u001b[0m\u001b[0m_\u001b[0m\u001b[1;33m]\u001b[0m\u001b[1;33m\u001b[0m\u001b[1;33m\u001b[0m\u001b[0m\n\u001b[0m",
      "\u001b[1;31mIndexError\u001b[0m: invalid index to scalar variable."
     ]
    }
   ],
   "source": [
    "m[_]"
   ]
  },
  {
   "cell_type": "markdown",
   "metadata": {},
   "source": [
    "<div class=\"alert alert-info\">\n",
    "\n",
    "<h3> Упражнения</h3>\n",
    "<p></p>\n",
    "\n",
    " <ol>\n",
    "  <li>Сгенерировать массив из положительных чисел произвольной длины. Вывести элементы, которые больше среднего арифметического.</li>\n",
    " <p></p>\n",
    " \n",
    "  <li>Сгенерировать массив из 20 элементов, элементы которого лежат в интервале [0, 10].</li>\n",
    "   <ul>\n",
    "          <li>Определить количество элементов, отличающихся от минимального на 5.</li>\n",
    "          <li>Найти среднее арифметическое всех четных элементов массива, стоящих на нечетных местах.</li>\n",
    "          <p></p>\n",
    "      </ul>\n",
    " \n",
    "  <li>Сгенерировать матрицу A размером 5 на 5, элементы которой лежат в интервале [1, 10].</li>\n",
    "      <ul>\n",
    "          <li>Возвести в квадрат максимальный элемент матрицы.</li>\n",
    "          <li>Все четные числа заменить на 0.</li>\n",
    "          <p></p>\n",
    "      </ul>\n",
    "      \n",
    "  <li>Сгенерировать матрицу B размером 5 на 5, элементы которой лежат в интервале [-5, 5]. Отрицательные элементы матрицы заменить на число отрицательных элементов в строке, в которой они находятся.</li>\n",
    "<p></p>\n",
    "  \n",
    "\n",
    " </ol> \n",
    "</div>"
   ]
  },
  {
   "cell_type": "markdown",
   "metadata": {},
   "source": [
    "### 1)"
   ]
  },
  {
   "cell_type": "code",
   "execution_count": 50,
   "metadata": {},
   "outputs": [
    {
     "name": "stdout",
     "output_type": "stream",
     "text": [
      "[ 5 11 12  8  9 11  5 15  0 16]\n"
     ]
    },
    {
     "data": {
      "text/plain": [
       "array([11, 12, 11, 15, 16])"
      ]
     },
     "execution_count": 50,
     "metadata": {},
     "output_type": "execute_result"
    }
   ],
   "source": [
    "np.random.seed(1)\n",
    "a=np.random.randint(0, 30, 10)\n",
    "sr=np.sum(a)/len(a)\n",
    "print(a)\n",
    "a[a>sr]\n"
   ]
  },
  {
   "cell_type": "markdown",
   "metadata": {},
   "source": [
    "### 2)"
   ]
  },
  {
   "cell_type": "code",
   "execution_count": 10,
   "metadata": {},
   "outputs": [
    {
     "name": "stdout",
     "output_type": "stream",
     "text": [
      "количество элементов, отличающихся от минимального на 5: 3 [8 8 6 2 8 7 2 1 5 4 4 5 7 3 6 4 3 7 6 1]\n"
     ]
    }
   ],
   "source": [
    "np.random.seed(2)\n",
    "a=np.random.randint(0, 10, 20)\n",
    "m=min(a)\n",
    "b=np.where(m+5==a,-1,a)\n",
    "ans1=len(b[b==-1])\n",
    "\n",
    "print(\"количество элементов, отличающихся от минимального на 5:\", ans1,a)\n"
   ]
  },
  {
   "cell_type": "code",
   "execution_count": 18,
   "metadata": {},
   "outputs": [
    {
     "name": "stdout",
     "output_type": "stream",
     "text": [
      "Найти среднее арифметическое всех четных элементов массива, стоящих на нечетных местах. 5.714285714285714 [8 6 8 2 4 6 6]\n"
     ]
    }
   ],
   "source": [
    "np.random.seed(2)\n",
    "a=np.random.randint(0, 10, 20)\n",
    "b=a[::2]\n",
    "ans2=b[np.where(b%2==0)]\n",
    "sr=np.sum(ans2)/len(ans2)\n",
    "print(\"Найти среднее арифметическое всех четных элементов массива, стоящих на нечетных местах.\",sr, ans2)"
   ]
  },
  {
   "cell_type": "markdown",
   "metadata": {},
   "source": [
    "#### 3) \n",
    "Сгенерировать матрицу A размером 5 на 5, элементы которой лежат в интервале [1, 10].\n",
    "Возвести в квадрат максимальный элемент матрицы.\n",
    "Все четные числа заменить на 0."
   ]
  },
  {
   "cell_type": "code",
   "execution_count": 33,
   "metadata": {},
   "outputs": [
    {
     "data": {
      "text/plain": [
       "array([[81,  4, 81, 81,  1],\n",
       "       [ 6,  4,  6,  8,  7],\n",
       "       [ 1,  5,  8, 81,  2],\n",
       "       [ 7,  3,  3,  2,  4],\n",
       "       [ 6, 81,  2, 81,  8]])"
      ]
     },
     "execution_count": 33,
     "metadata": {},
     "output_type": "execute_result"
    }
   ],
   "source": [
    "np.random.seed(3)\n",
    "a=np.random.randint(1, 10, 25).reshape((5,5))\n",
    "m=a.max()\n",
    "np.where(a==m,a**2,a)"
   ]
  },
  {
   "cell_type": "code",
   "execution_count": 34,
   "metadata": {},
   "outputs": [
    {
     "data": {
      "text/plain": [
       "array([[9, 0, 9, 9, 1],\n",
       "       [0, 0, 0, 0, 7],\n",
       "       [1, 5, 0, 9, 0],\n",
       "       [7, 3, 3, 0, 0],\n",
       "       [0, 9, 0, 9, 0]])"
      ]
     },
     "execution_count": 34,
     "metadata": {},
     "output_type": "execute_result"
    }
   ],
   "source": [
    "np.random.seed(3)\n",
    "a=np.random.randint(1, 10, 25).reshape((5,5))\n",
    "np.where(a%2==0,0,a)"
   ]
  },
  {
   "cell_type": "markdown",
   "metadata": {},
   "source": [
    "#### 4)\n",
    "Сгенерировать матрицу B размером 5 на 5, элементы которой лежат в интервале [-5, 5]. \n",
    "Отрицательные элементы матрицы заменить на число отрицательных элементов в строке, в которой они находятся.\n"
   ]
  },
  {
   "cell_type": "code",
   "execution_count": 51,
   "metadata": {},
   "outputs": [
    {
     "ename": "IndexError",
     "evalue": "too many indices for array: array is 0-dimensional, but 1 were indexed",
     "output_type": "error",
     "traceback": [
      "\u001b[1;31m---------------------------------------------------------------------------\u001b[0m",
      "\u001b[1;31mIndexError\u001b[0m                                Traceback (most recent call last)",
      "\u001b[1;32m<ipython-input-51-172996c009b9>\u001b[0m in \u001b[0;36m<module>\u001b[1;34m\u001b[0m\n\u001b[0;32m      3\u001b[0m \u001b[0mi\u001b[0m\u001b[1;33m=\u001b[0m\u001b[1;36m0\u001b[0m\u001b[1;33m\u001b[0m\u001b[1;33m\u001b[0m\u001b[0m\n\u001b[0;32m      4\u001b[0m \u001b[1;32mwhile\u001b[0m \u001b[0mi\u001b[0m\u001b[1;33m<\u001b[0m\u001b[1;36m5\u001b[0m\u001b[1;33m:\u001b[0m\u001b[1;33m\u001b[0m\u001b[1;33m\u001b[0m\u001b[0m\n\u001b[1;32m----> 5\u001b[1;33m     \u001b[0mk\u001b[0m\u001b[1;33m=\u001b[0m\u001b[0ma\u001b[0m\u001b[1;33m[\u001b[0m\u001b[0mi\u001b[0m\u001b[1;33m]\u001b[0m\u001b[1;33m\u001b[0m\u001b[1;33m\u001b[0m\u001b[0m\n\u001b[0m\u001b[0;32m      6\u001b[0m     \u001b[0ms\u001b[0m\u001b[1;33m=\u001b[0m\u001b[0mk\u001b[0m\u001b[1;33m[\u001b[0m\u001b[0mk\u001b[0m\u001b[1;33m<\u001b[0m\u001b[1;36m0\u001b[0m\u001b[1;33m]\u001b[0m\u001b[1;33m\u001b[0m\u001b[1;33m\u001b[0m\u001b[0m\n\u001b[0;32m      7\u001b[0m     \u001b[0ml\u001b[0m\u001b[1;33m=\u001b[0m\u001b[0mlen\u001b[0m\u001b[1;33m(\u001b[0m\u001b[0ms\u001b[0m\u001b[1;33m)\u001b[0m\u001b[1;33m\u001b[0m\u001b[1;33m\u001b[0m\u001b[0m\n",
      "\u001b[1;31mIndexError\u001b[0m: too many indices for array: array is 0-dimensional, but 1 were indexed"
     ]
    }
   ],
   "source": [
    "np.random.seed(3)\n",
    "a=np.random.randint(-5, 5, 25).reshape((5,5))\n",
    "i=0\n",
    "while i<5:\n",
    "    k=a[i]\n",
    "    s=k[k<0]\n",
    "    l=len(s)\n",
    "    a=np.where(a[i]<0,l,a[i])\n",
    "    i=i+1\n",
    "print(a)\n"
   ]
  },
  {
   "cell_type": "markdown",
   "metadata": {},
   "source": [
    "# 2. Работа с табличными данными в <a href='http://pandas.pydata.org/pandas-docs/stable/'>Pandas</a>\n",
    "---\n",
    "\n",
    "<p><a name=\"pandas\"></a></p>\n",
    "\n",
    "\n",
    "Pandas позволяет представлять массивы NumPy в виде таблицы `pd.DataFrame`, сопоставив каждому элементу свои индекс и ключ. Создадим `DataFrame` с помощью словаря Python:"
   ]
  },
  {
   "cell_type": "code",
   "execution_count": 21,
   "metadata": {},
   "outputs": [
    {
     "data": {
      "text/html": [
       "<div>\n",
       "<style scoped>\n",
       "    .dataframe tbody tr th:only-of-type {\n",
       "        vertical-align: middle;\n",
       "    }\n",
       "\n",
       "    .dataframe tbody tr th {\n",
       "        vertical-align: top;\n",
       "    }\n",
       "\n",
       "    .dataframe thead th {\n",
       "        text-align: right;\n",
       "    }\n",
       "</style>\n",
       "<table border=\"1\" class=\"dataframe\">\n",
       "  <thead>\n",
       "    <tr style=\"text-align: right;\">\n",
       "      <th></th>\n",
       "      <th>country</th>\n",
       "      <th>population</th>\n",
       "      <th>area</th>\n",
       "      <th>capital</th>\n",
       "    </tr>\n",
       "  </thead>\n",
       "  <tbody>\n",
       "    <tr>\n",
       "      <th>0</th>\n",
       "      <td>Belgium</td>\n",
       "      <td>11.3</td>\n",
       "      <td>30510</td>\n",
       "      <td>Brussels</td>\n",
       "    </tr>\n",
       "    <tr>\n",
       "      <th>1</th>\n",
       "      <td>France</td>\n",
       "      <td>64.3</td>\n",
       "      <td>671308</td>\n",
       "      <td>Paris</td>\n",
       "    </tr>\n",
       "    <tr>\n",
       "      <th>2</th>\n",
       "      <td>Germany</td>\n",
       "      <td>81.3</td>\n",
       "      <td>357050</td>\n",
       "      <td>Berlin</td>\n",
       "    </tr>\n",
       "    <tr>\n",
       "      <th>3</th>\n",
       "      <td>Netherlands</td>\n",
       "      <td>16.9</td>\n",
       "      <td>41526</td>\n",
       "      <td>Amsterdam</td>\n",
       "    </tr>\n",
       "    <tr>\n",
       "      <th>4</th>\n",
       "      <td>United Kingdom</td>\n",
       "      <td>64.9</td>\n",
       "      <td>244820</td>\n",
       "      <td>London</td>\n",
       "    </tr>\n",
       "  </tbody>\n",
       "</table>\n",
       "</div>"
      ],
      "text/plain": [
       "          country  population    area    capital\n",
       "0         Belgium        11.3   30510   Brussels\n",
       "1          France        64.3  671308      Paris\n",
       "2         Germany        81.3  357050     Berlin\n",
       "3     Netherlands        16.9   41526  Amsterdam\n",
       "4  United Kingdom        64.9  244820     London"
      ]
     },
     "execution_count": 21,
     "metadata": {},
     "output_type": "execute_result"
    }
   ],
   "source": [
    "data = {'country': ['Belgium', 'France', 'Germany', 'Netherlands', 'United Kingdom'],\n",
    "        'population': [11.3, 64.3, 81.3, 16.9, 64.9],\n",
    "        'area': [30510, 671308, 357050, 41526, 244820],\n",
    "        'capital': ['Brussels', 'Paris', 'Berlin', 'Amsterdam', 'London']}\n",
    "df_countries = pd.DataFrame(data)\n",
    "df_countries"
   ]
  },
  {
   "cell_type": "markdown",
   "metadata": {},
   "source": [
    "Основными атрибутами `pd.DataFrame` являются `index`, `columns` и `values`, где `values` является массивом `ndarray`:"
   ]
  },
  {
   "cell_type": "code",
   "execution_count": 22,
   "metadata": {},
   "outputs": [
    {
     "data": {
      "text/plain": [
       "RangeIndex(start=0, stop=5, step=1)"
      ]
     },
     "execution_count": 22,
     "metadata": {},
     "output_type": "execute_result"
    }
   ],
   "source": [
    "df_countries.index"
   ]
  },
  {
   "cell_type": "code",
   "execution_count": 23,
   "metadata": {},
   "outputs": [
    {
     "data": {
      "text/plain": [
       "Index(['country', 'population', 'area', 'capital'], dtype='object')"
      ]
     },
     "execution_count": 23,
     "metadata": {},
     "output_type": "execute_result"
    }
   ],
   "source": [
    "df_countries.columns"
   ]
  },
  {
   "cell_type": "code",
   "execution_count": 24,
   "metadata": {},
   "outputs": [
    {
     "data": {
      "text/plain": [
       "array([['Belgium', 11.3, 30510, 'Brussels'],\n",
       "       ['France', 64.3, 671308, 'Paris'],\n",
       "       ['Germany', 81.3, 357050, 'Berlin'],\n",
       "       ['Netherlands', 16.9, 41526, 'Amsterdam'],\n",
       "       ['United Kingdom', 64.9, 244820, 'London']], dtype=object)"
      ]
     },
     "execution_count": 24,
     "metadata": {},
     "output_type": "execute_result"
    }
   ],
   "source": [
    "df_countries.values"
   ]
  },
  {
   "cell_type": "markdown",
   "metadata": {},
   "source": [
    "Таким образом, для работы с таблицами Pandas доступны те же возможности, что и при работе с массивами NumPy. Размерность массива возвращает метод `shape`. Методы `describe()`, `info` позволяют провести первичный анализ данных: оценить распределение, обнаружить пропуски и выбросы в данных."
   ]
  },
  {
   "cell_type": "code",
   "execution_count": 25,
   "metadata": {},
   "outputs": [
    {
     "data": {
      "text/plain": [
       "(5, 4)"
      ]
     },
     "execution_count": 25,
     "metadata": {},
     "output_type": "execute_result"
    }
   ],
   "source": [
    "df_countries.shape"
   ]
  },
  {
   "cell_type": "code",
   "execution_count": 26,
   "metadata": {},
   "outputs": [
    {
     "data": {
      "text/html": [
       "<div>\n",
       "<style scoped>\n",
       "    .dataframe tbody tr th:only-of-type {\n",
       "        vertical-align: middle;\n",
       "    }\n",
       "\n",
       "    .dataframe tbody tr th {\n",
       "        vertical-align: top;\n",
       "    }\n",
       "\n",
       "    .dataframe thead th {\n",
       "        text-align: right;\n",
       "    }\n",
       "</style>\n",
       "<table border=\"1\" class=\"dataframe\">\n",
       "  <thead>\n",
       "    <tr style=\"text-align: right;\">\n",
       "      <th></th>\n",
       "      <th>population</th>\n",
       "      <th>area</th>\n",
       "    </tr>\n",
       "  </thead>\n",
       "  <tbody>\n",
       "    <tr>\n",
       "      <th>count</th>\n",
       "      <td>5.000000</td>\n",
       "      <td>5.000000</td>\n",
       "    </tr>\n",
       "    <tr>\n",
       "      <th>mean</th>\n",
       "      <td>47.740000</td>\n",
       "      <td>269042.800000</td>\n",
       "    </tr>\n",
       "    <tr>\n",
       "      <th>std</th>\n",
       "      <td>31.519645</td>\n",
       "      <td>264012.827994</td>\n",
       "    </tr>\n",
       "    <tr>\n",
       "      <th>min</th>\n",
       "      <td>11.300000</td>\n",
       "      <td>30510.000000</td>\n",
       "    </tr>\n",
       "    <tr>\n",
       "      <th>25%</th>\n",
       "      <td>16.900000</td>\n",
       "      <td>41526.000000</td>\n",
       "    </tr>\n",
       "    <tr>\n",
       "      <th>50%</th>\n",
       "      <td>64.300000</td>\n",
       "      <td>244820.000000</td>\n",
       "    </tr>\n",
       "    <tr>\n",
       "      <th>75%</th>\n",
       "      <td>64.900000</td>\n",
       "      <td>357050.000000</td>\n",
       "    </tr>\n",
       "    <tr>\n",
       "      <th>max</th>\n",
       "      <td>81.300000</td>\n",
       "      <td>671308.000000</td>\n",
       "    </tr>\n",
       "  </tbody>\n",
       "</table>\n",
       "</div>"
      ],
      "text/plain": [
       "       population           area\n",
       "count    5.000000       5.000000\n",
       "mean    47.740000  269042.800000\n",
       "std     31.519645  264012.827994\n",
       "min     11.300000   30510.000000\n",
       "25%     16.900000   41526.000000\n",
       "50%     64.300000  244820.000000\n",
       "75%     64.900000  357050.000000\n",
       "max     81.300000  671308.000000"
      ]
     },
     "execution_count": 26,
     "metadata": {},
     "output_type": "execute_result"
    }
   ],
   "source": [
    "df_countries.describe()"
   ]
  },
  {
   "cell_type": "code",
   "execution_count": 27,
   "metadata": {},
   "outputs": [
    {
     "name": "stdout",
     "output_type": "stream",
     "text": [
      "<class 'pandas.core.frame.DataFrame'>\n",
      "RangeIndex: 5 entries, 0 to 4\n",
      "Data columns (total 4 columns):\n",
      " #   Column      Non-Null Count  Dtype  \n",
      "---  ------      --------------  -----  \n",
      " 0   country     5 non-null      object \n",
      " 1   population  5 non-null      float64\n",
      " 2   area        5 non-null      int64  \n",
      " 3   capital     5 non-null      object \n",
      "dtypes: float64(1), int64(1), object(2)\n",
      "memory usage: 288.0+ bytes\n"
     ]
    }
   ],
   "source": [
    "df_countries.info()"
   ]
  },
  {
   "cell_type": "markdown",
   "metadata": {
    "collapsed": true
   },
   "source": [
    "## 2.1. Загрузка данных\n",
    "<p><a name=\"import\"></a></p>"
   ]
  },
  {
   "cell_type": "markdown",
   "metadata": {},
   "source": [
    "В Pandas реализовано большое количество функции для удобного чтения данных различных форматов. Наиболее часто данные хранятся в формате `.csv`. В зависимости от формата данных, могут использоваться следующие функции:\n",
    "- `read_csv` &ndash; чтение табличных данных;\n",
    "- `read_excel` &ndash; чтение данных из файла Excel;\n",
    "- `read_json` &ndash; чтение более сложных структур данных JSON.\n",
    "\n",
    "Загрузим и отобразим первые и последние 5 строк набора данных о минимальной суточной температуре. Как видно по первым и последним пяти записям, данные содержат информацию о температуре воздуха с 1 января 1981 года по 31 декабря 1990 года."
   ]
  },
  {
   "cell_type": "code",
   "execution_count": 28,
   "metadata": {},
   "outputs": [],
   "source": [
    "temperature_data = pd.read_csv('data/daily-min-temperatures.csv', index_col=0, parse_dates=True)"
   ]
  },
  {
   "cell_type": "code",
   "execution_count": 29,
   "metadata": {},
   "outputs": [
    {
     "data": {
      "text/html": [
       "<div>\n",
       "<style scoped>\n",
       "    .dataframe tbody tr th:only-of-type {\n",
       "        vertical-align: middle;\n",
       "    }\n",
       "\n",
       "    .dataframe tbody tr th {\n",
       "        vertical-align: top;\n",
       "    }\n",
       "\n",
       "    .dataframe thead th {\n",
       "        text-align: right;\n",
       "    }\n",
       "</style>\n",
       "<table border=\"1\" class=\"dataframe\">\n",
       "  <thead>\n",
       "    <tr style=\"text-align: right;\">\n",
       "      <th></th>\n",
       "      <th>Temp</th>\n",
       "    </tr>\n",
       "    <tr>\n",
       "      <th>Date</th>\n",
       "      <th></th>\n",
       "    </tr>\n",
       "  </thead>\n",
       "  <tbody>\n",
       "    <tr>\n",
       "      <th>1981-01-01</th>\n",
       "      <td>20.7</td>\n",
       "    </tr>\n",
       "    <tr>\n",
       "      <th>1981-01-02</th>\n",
       "      <td>17.9</td>\n",
       "    </tr>\n",
       "    <tr>\n",
       "      <th>1981-01-03</th>\n",
       "      <td>18.8</td>\n",
       "    </tr>\n",
       "    <tr>\n",
       "      <th>1981-01-04</th>\n",
       "      <td>14.6</td>\n",
       "    </tr>\n",
       "    <tr>\n",
       "      <th>1981-01-05</th>\n",
       "      <td>15.8</td>\n",
       "    </tr>\n",
       "  </tbody>\n",
       "</table>\n",
       "</div>"
      ],
      "text/plain": [
       "            Temp\n",
       "Date            \n",
       "1981-01-01  20.7\n",
       "1981-01-02  17.9\n",
       "1981-01-03  18.8\n",
       "1981-01-04  14.6\n",
       "1981-01-05  15.8"
      ]
     },
     "execution_count": 29,
     "metadata": {},
     "output_type": "execute_result"
    }
   ],
   "source": [
    "temperature_data.head()"
   ]
  },
  {
   "cell_type": "code",
   "execution_count": 30,
   "metadata": {},
   "outputs": [
    {
     "data": {
      "text/html": [
       "<div>\n",
       "<style scoped>\n",
       "    .dataframe tbody tr th:only-of-type {\n",
       "        vertical-align: middle;\n",
       "    }\n",
       "\n",
       "    .dataframe tbody tr th {\n",
       "        vertical-align: top;\n",
       "    }\n",
       "\n",
       "    .dataframe thead th {\n",
       "        text-align: right;\n",
       "    }\n",
       "</style>\n",
       "<table border=\"1\" class=\"dataframe\">\n",
       "  <thead>\n",
       "    <tr style=\"text-align: right;\">\n",
       "      <th></th>\n",
       "      <th>Temp</th>\n",
       "    </tr>\n",
       "    <tr>\n",
       "      <th>Date</th>\n",
       "      <th></th>\n",
       "    </tr>\n",
       "  </thead>\n",
       "  <tbody>\n",
       "    <tr>\n",
       "      <th>1990-12-27</th>\n",
       "      <td>14.0</td>\n",
       "    </tr>\n",
       "    <tr>\n",
       "      <th>1990-12-28</th>\n",
       "      <td>13.6</td>\n",
       "    </tr>\n",
       "    <tr>\n",
       "      <th>1990-12-29</th>\n",
       "      <td>13.5</td>\n",
       "    </tr>\n",
       "    <tr>\n",
       "      <th>1990-12-30</th>\n",
       "      <td>15.7</td>\n",
       "    </tr>\n",
       "    <tr>\n",
       "      <th>1990-12-31</th>\n",
       "      <td>13.0</td>\n",
       "    </tr>\n",
       "  </tbody>\n",
       "</table>\n",
       "</div>"
      ],
      "text/plain": [
       "            Temp\n",
       "Date            \n",
       "1990-12-27  14.0\n",
       "1990-12-28  13.6\n",
       "1990-12-29  13.5\n",
       "1990-12-30  15.7\n",
       "1990-12-31  13.0"
      ]
     },
     "execution_count": 30,
     "metadata": {},
     "output_type": "execute_result"
    }
   ],
   "source": [
    "temperature_data.tail()"
   ]
  },
  {
   "cell_type": "markdown",
   "metadata": {},
   "source": [
    "Опция `index_col` в `pd.read_csv` позволяет указать, какой столбец будет использоваться в качестве индексов. В данном случае будем использовать в качестве индекса дату. Сама дата может быть представлена в разных форматах, опция `parse_dates=True` автоматически определит и преобразует даты к формату `Timestamp`."
   ]
  },
  {
   "cell_type": "code",
   "execution_count": 31,
   "metadata": {},
   "outputs": [
    {
     "data": {
      "text/plain": [
       "Timestamp('1981-01-01 00:00:00')"
      ]
     },
     "execution_count": 31,
     "metadata": {},
     "output_type": "execute_result"
    }
   ],
   "source": [
    "temperature_data.index[0]"
   ]
  },
  {
   "cell_type": "markdown",
   "metadata": {},
   "source": [
    "Однако, Pandas не всегда способен корректно прочитать дату и время. Например, в разных странах приняты разные форматы даты и времени. В России принят формат DD.MM.YYYY, в то время как в Великобритании &ndash; DD/MM/YYYY, а в США &ndash; MM-DD-YYYY. Поэтому при чтении и обработке такого рода данных обращаются к библиотеке **datetime**, с помощью функционала которой можно указать явно формат, в котором хванится дата."
   ]
  },
  {
   "cell_type": "code",
   "execution_count": 32,
   "metadata": {},
   "outputs": [],
   "source": [
    "import datetime as dt"
   ]
  },
  {
   "cell_type": "code",
   "execution_count": 33,
   "metadata": {},
   "outputs": [
    {
     "data": {
      "text/plain": [
       "datetime.datetime(2020, 2, 10, 0, 0)"
      ]
     },
     "execution_count": 33,
     "metadata": {},
     "output_type": "execute_result"
    }
   ],
   "source": [
    "dt.datetime.strptime('10FEB2020', '%d%b%Y')"
   ]
  },
  {
   "cell_type": "code",
   "execution_count": 34,
   "metadata": {},
   "outputs": [
    {
     "data": {
      "text/plain": [
       "datetime.datetime(2020, 2, 10, 0, 0)"
      ]
     },
     "execution_count": 34,
     "metadata": {},
     "output_type": "execute_result"
    }
   ],
   "source": [
    "dt.datetime.strptime('10FEB20', '%d%b%y')"
   ]
  },
  {
   "cell_type": "code",
   "execution_count": 35,
   "metadata": {},
   "outputs": [
    {
     "data": {
      "text/plain": [
       "datetime.datetime(2020, 2, 10, 0, 0)"
      ]
     },
     "execution_count": 35,
     "metadata": {},
     "output_type": "execute_result"
    }
   ],
   "source": [
    "dt.datetime.strptime('10/02/2020', '%d/%m/%Y')"
   ]
  },
  {
   "cell_type": "code",
   "execution_count": 36,
   "metadata": {},
   "outputs": [
    {
     "data": {
      "text/plain": [
       "datetime.datetime(2020, 2, 10, 0, 0)"
      ]
     },
     "execution_count": 36,
     "metadata": {},
     "output_type": "execute_result"
    }
   ],
   "source": [
    "dt.datetime.strptime('02-10-20', '%m-%d-%y')"
   ]
  },
  {
   "cell_type": "markdown",
   "metadata": {},
   "source": [
    "При импортировании набора данных необходимо указать формат даты через lambda-функцию и передать его в `date_parser`, при этом в `parse_dates` указать индекс или название колонки, где содержится дата."
   ]
  },
  {
   "cell_type": "code",
   "execution_count": 37,
   "metadata": {},
   "outputs": [],
   "source": [
    "parser = lambda date: dt.datetime.strptime(date, '%Y-%m-%d')"
   ]
  },
  {
   "cell_type": "code",
   "execution_count": 38,
   "metadata": {},
   "outputs": [
    {
     "data": {
      "text/html": [
       "<div>\n",
       "<style scoped>\n",
       "    .dataframe tbody tr th:only-of-type {\n",
       "        vertical-align: middle;\n",
       "    }\n",
       "\n",
       "    .dataframe tbody tr th {\n",
       "        vertical-align: top;\n",
       "    }\n",
       "\n",
       "    .dataframe thead th {\n",
       "        text-align: right;\n",
       "    }\n",
       "</style>\n",
       "<table border=\"1\" class=\"dataframe\">\n",
       "  <thead>\n",
       "    <tr style=\"text-align: right;\">\n",
       "      <th></th>\n",
       "      <th>Temp</th>\n",
       "    </tr>\n",
       "    <tr>\n",
       "      <th>Date</th>\n",
       "      <th></th>\n",
       "    </tr>\n",
       "  </thead>\n",
       "  <tbody>\n",
       "    <tr>\n",
       "      <th>1981-01-01</th>\n",
       "      <td>20.7</td>\n",
       "    </tr>\n",
       "    <tr>\n",
       "      <th>1981-01-02</th>\n",
       "      <td>17.9</td>\n",
       "    </tr>\n",
       "    <tr>\n",
       "      <th>1981-01-03</th>\n",
       "      <td>18.8</td>\n",
       "    </tr>\n",
       "    <tr>\n",
       "      <th>1981-01-04</th>\n",
       "      <td>14.6</td>\n",
       "    </tr>\n",
       "    <tr>\n",
       "      <th>1981-01-05</th>\n",
       "      <td>15.8</td>\n",
       "    </tr>\n",
       "  </tbody>\n",
       "</table>\n",
       "</div>"
      ],
      "text/plain": [
       "            Temp\n",
       "Date            \n",
       "1981-01-01  20.7\n",
       "1981-01-02  17.9\n",
       "1981-01-03  18.8\n",
       "1981-01-04  14.6\n",
       "1981-01-05  15.8"
      ]
     },
     "execution_count": 38,
     "metadata": {},
     "output_type": "execute_result"
    }
   ],
   "source": [
    "pd.read_csv('data/daily-min-temperatures.csv', \n",
    "            index_col=0, \n",
    "            parse_dates=['Date'], \n",
    "            date_parser=parser).head()"
   ]
  },
  {
   "cell_type": "markdown",
   "metadata": {},
   "source": [
    "Также можно указать формат данных и после загрузки через метод `apply`.\n",
    "После успешной загрузки, можно отобразить временной ряд с помощью функции `df.plot()` из пакета Matplotlib."
   ]
  },
  {
   "cell_type": "code",
   "execution_count": 70,
   "metadata": {},
   "outputs": [
    {
     "data": {
      "image/png": "[encoded data removed]",
      "text/plain": [
       "<Figure size 864x360 with 1 Axes>"
      ]
     },
     "metadata": {
      "needs_background": "light"
     },
     "output_type": "display_data"
    }
   ],
   "source": [
    "temperature_data.plot(figsize=(12,5))\n",
    "plt.show()"
   ]
  },
  {
   "cell_type": "markdown",
   "metadata": {},
   "source": [
    "Как видно из графика, во временном ряду присутствует ярко выраженная годовая сезонность. Причем наибольшая температура наблюдается в январе-феврале. Это связано с тем, что данные представляют собой погоду в Австралии, где лето начинается в декабре, а зима &ndash; в июне."
   ]
  },
  {
   "cell_type": "markdown",
   "metadata": {},
   "source": [
    "## 2.2. Извлечение данных\n",
    "<p><a name=\"select\"></a></p>"
   ]
  },
  {
   "cell_type": "markdown",
   "metadata": {},
   "source": [
    "Как было сказано ранее, к элементам таблицы Pandas можно применять те же функции, что и к простым массивам NumPy, например, возвести все элементы в квадрат, посчитать среднее, количество элементов, найти минимальное и максимальное значения."
   ]
  },
  {
   "cell_type": "code",
   "execution_count": 4,
   "metadata": {},
   "outputs": [
    {
     "ename": "NameError",
     "evalue": "name 'temperature_data' is not defined",
     "output_type": "error",
     "traceback": [
      "\u001b[1;31m---------------------------------------------------------------------------\u001b[0m",
      "\u001b[1;31mNameError\u001b[0m                                 Traceback (most recent call last)",
      "\u001b[1;32m<ipython-input-4-ea3e66c3329b>\u001b[0m in \u001b[0;36m<module>\u001b[1;34m\u001b[0m\n\u001b[1;32m----> 1\u001b[1;33m \u001b[1;33m(\u001b[0m\u001b[0mtemperature_data\u001b[0m \u001b[1;33m**\u001b[0m \u001b[1;36m2\u001b[0m\u001b[1;33m)\u001b[0m\u001b[1;33m.\u001b[0m\u001b[0mhead\u001b[0m\u001b[1;33m(\u001b[0m\u001b[1;33m)\u001b[0m\u001b[1;33m\u001b[0m\u001b[1;33m\u001b[0m\u001b[0m\n\u001b[0m",
      "\u001b[1;31mNameError\u001b[0m: name 'temperature_data' is not defined"
     ]
    }
   ],
   "source": [
    "(temperature_data ** 2).head()"
   ]
  },
  {
   "cell_type": "code",
   "execution_count": 72,
   "metadata": {},
   "outputs": [
    {
     "data": {
      "text/plain": [
       "Temp    11.177753\n",
       "dtype: float64"
      ]
     },
     "execution_count": 72,
     "metadata": {},
     "output_type": "execute_result"
    }
   ],
   "source": [
    "temperature_data.mean()"
   ]
  },
  {
   "cell_type": "code",
   "execution_count": 73,
   "metadata": {},
   "outputs": [
    {
     "data": {
      "text/plain": [
       "Temp    3650\n",
       "dtype: int64"
      ]
     },
     "execution_count": 73,
     "metadata": {},
     "output_type": "execute_result"
    }
   ],
   "source": [
    "temperature_data.count()"
   ]
  },
  {
   "cell_type": "code",
   "execution_count": 74,
   "metadata": {},
   "outputs": [
    {
     "data": {
      "text/html": [
       "<div>\n",
       "<style scoped>\n",
       "    .dataframe tbody tr th:only-of-type {\n",
       "        vertical-align: middle;\n",
       "    }\n",
       "\n",
       "    .dataframe tbody tr th {\n",
       "        vertical-align: top;\n",
       "    }\n",
       "\n",
       "    .dataframe thead th {\n",
       "        text-align: right;\n",
       "    }\n",
       "</style>\n",
       "<table border=\"1\" class=\"dataframe\">\n",
       "  <thead>\n",
       "    <tr style=\"text-align: right;\">\n",
       "      <th></th>\n",
       "      <th>Temp</th>\n",
       "    </tr>\n",
       "  </thead>\n",
       "  <tbody>\n",
       "    <tr>\n",
       "      <th>max</th>\n",
       "      <td>26.3</td>\n",
       "    </tr>\n",
       "    <tr>\n",
       "      <th>min</th>\n",
       "      <td>0.0</td>\n",
       "    </tr>\n",
       "  </tbody>\n",
       "</table>\n",
       "</div>"
      ],
      "text/plain": [
       "     Temp\n",
       "max  26.3\n",
       "min   0.0"
      ]
     },
     "execution_count": 74,
     "metadata": {},
     "output_type": "execute_result"
    }
   ],
   "source": [
    "temperature_data.apply(['max', 'min'])"
   ]
  },
  {
   "cell_type": "markdown",
   "metadata": {},
   "source": [
    "Рассмотрим данные о количестве поситителей одного ресторана в Японии в разные дни недели. Данные представлены по неделям года."
   ]
  },
  {
   "cell_type": "code",
   "execution_count": 75,
   "metadata": {},
   "outputs": [],
   "source": [
    "visitors_data = pd.read_csv('data/visitors_data.csv', index_col='year_week')"
   ]
  },
  {
   "cell_type": "code",
   "execution_count": 76,
   "metadata": {},
   "outputs": [
    {
     "data": {
      "text/html": [
       "<div>\n",
       "<style scoped>\n",
       "    .dataframe tbody tr th:only-of-type {\n",
       "        vertical-align: middle;\n",
       "    }\n",
       "\n",
       "    .dataframe tbody tr th {\n",
       "        vertical-align: top;\n",
       "    }\n",
       "\n",
       "    .dataframe thead th {\n",
       "        text-align: right;\n",
       "    }\n",
       "</style>\n",
       "<table border=\"1\" class=\"dataframe\">\n",
       "  <thead>\n",
       "    <tr style=\"text-align: right;\">\n",
       "      <th></th>\n",
       "      <th>Monday</th>\n",
       "      <th>Tuesday</th>\n",
       "      <th>Wednesday</th>\n",
       "      <th>Thursday</th>\n",
       "      <th>Friday</th>\n",
       "      <th>Saturday</th>\n",
       "      <th>Sunday</th>\n",
       "    </tr>\n",
       "    <tr>\n",
       "      <th>year_week</th>\n",
       "      <th></th>\n",
       "      <th></th>\n",
       "      <th></th>\n",
       "      <th></th>\n",
       "      <th></th>\n",
       "      <th></th>\n",
       "      <th></th>\n",
       "    </tr>\n",
       "  </thead>\n",
       "  <tbody>\n",
       "    <tr>\n",
       "      <th>2016-1</th>\n",
       "      <td>21.184713</td>\n",
       "      <td>17.000000</td>\n",
       "      <td>16.616000</td>\n",
       "      <td>16.977011</td>\n",
       "      <td>22.075812</td>\n",
       "      <td>25.816254</td>\n",
       "      <td>26.722467</td>\n",
       "    </tr>\n",
       "    <tr>\n",
       "      <th>2016-2</th>\n",
       "      <td>22.123762</td>\n",
       "      <td>15.797619</td>\n",
       "      <td>18.433460</td>\n",
       "      <td>19.229927</td>\n",
       "      <td>23.506897</td>\n",
       "      <td>26.780142</td>\n",
       "      <td>21.972222</td>\n",
       "    </tr>\n",
       "    <tr>\n",
       "      <th>2016-3</th>\n",
       "      <td>14.486726</td>\n",
       "      <td>16.524345</td>\n",
       "      <td>18.262357</td>\n",
       "      <td>19.431655</td>\n",
       "      <td>23.551724</td>\n",
       "      <td>25.301038</td>\n",
       "      <td>23.509901</td>\n",
       "    </tr>\n",
       "    <tr>\n",
       "      <th>2016-4</th>\n",
       "      <td>16.300847</td>\n",
       "      <td>18.041509</td>\n",
       "      <td>19.448905</td>\n",
       "      <td>18.871886</td>\n",
       "      <td>21.322917</td>\n",
       "      <td>26.166090</td>\n",
       "      <td>23.288372</td>\n",
       "    </tr>\n",
       "    <tr>\n",
       "      <th>2016-5</th>\n",
       "      <td>15.952174</td>\n",
       "      <td>16.442804</td>\n",
       "      <td>17.488806</td>\n",
       "      <td>17.911032</td>\n",
       "      <td>22.369492</td>\n",
       "      <td>27.271127</td>\n",
       "      <td>23.741627</td>\n",
       "    </tr>\n",
       "  </tbody>\n",
       "</table>\n",
       "</div>"
      ],
      "text/plain": [
       "              Monday    Tuesday  Wednesday   Thursday     Friday   Saturday  \\\n",
       "year_week                                                                     \n",
       "2016-1     21.184713  17.000000  16.616000  16.977011  22.075812  25.816254   \n",
       "2016-2     22.123762  15.797619  18.433460  19.229927  23.506897  26.780142   \n",
       "2016-3     14.486726  16.524345  18.262357  19.431655  23.551724  25.301038   \n",
       "2016-4     16.300847  18.041509  19.448905  18.871886  21.322917  26.166090   \n",
       "2016-5     15.952174  16.442804  17.488806  17.911032  22.369492  27.271127   \n",
       "\n",
       "              Sunday  \n",
       "year_week             \n",
       "2016-1     26.722467  \n",
       "2016-2     21.972222  \n",
       "2016-3     23.509901  \n",
       "2016-4     23.288372  \n",
       "2016-5     23.741627  "
      ]
     },
     "execution_count": 76,
     "metadata": {},
     "output_type": "execute_result"
    }
   ],
   "source": [
    "visitors_data.head()"
   ]
  },
  {
   "cell_type": "code",
   "execution_count": 77,
   "metadata": {},
   "outputs": [
    {
     "data": {
      "image/png": "[encoded data removed]",
      "text/plain": [
       "<Figure size 864x360 with 1 Axes>"
      ]
     },
     "metadata": {
      "needs_background": "light"
     },
     "output_type": "display_data"
    }
   ],
   "source": [
    "visitors_data.plot(figsize=(12,5))\n",
    "plt.show()"
   ]
  },
  {
   "cell_type": "markdown",
   "metadata": {},
   "source": [
    "<div class=\"alert alert-info\">\n",
    "\n",
    "Какие выводы можно сделать по графику выше?\n",
    " \n",
    "</div>"
   ]
  },
  {
   "cell_type": "markdown",
   "metadata": {},
   "source": [
    "По сравнению с NumPy можно обращаться к отдельным колонкам по их названию. Возьмем данные о количестве посетителей только за выходные дни."
   ]
  },
  {
   "cell_type": "code",
   "execution_count": 78,
   "metadata": {},
   "outputs": [
    {
     "data": {
      "text/html": [
       "<div>\n",
       "<style scoped>\n",
       "    .dataframe tbody tr th:only-of-type {\n",
       "        vertical-align: middle;\n",
       "    }\n",
       "\n",
       "    .dataframe tbody tr th {\n",
       "        vertical-align: top;\n",
       "    }\n",
       "\n",
       "    .dataframe thead th {\n",
       "        text-align: right;\n",
       "    }\n",
       "</style>\n",
       "<table border=\"1\" class=\"dataframe\">\n",
       "  <thead>\n",
       "    <tr style=\"text-align: right;\">\n",
       "      <th></th>\n",
       "      <th>Saturday</th>\n",
       "      <th>Sunday</th>\n",
       "    </tr>\n",
       "    <tr>\n",
       "      <th>year_week</th>\n",
       "      <th></th>\n",
       "      <th></th>\n",
       "    </tr>\n",
       "  </thead>\n",
       "  <tbody>\n",
       "    <tr>\n",
       "      <th>2016-1</th>\n",
       "      <td>25.816254</td>\n",
       "      <td>26.722467</td>\n",
       "    </tr>\n",
       "    <tr>\n",
       "      <th>2016-2</th>\n",
       "      <td>26.780142</td>\n",
       "      <td>21.972222</td>\n",
       "    </tr>\n",
       "    <tr>\n",
       "      <th>2016-3</th>\n",
       "      <td>25.301038</td>\n",
       "      <td>23.509901</td>\n",
       "    </tr>\n",
       "    <tr>\n",
       "      <th>2016-4</th>\n",
       "      <td>26.166090</td>\n",
       "      <td>23.288372</td>\n",
       "    </tr>\n",
       "    <tr>\n",
       "      <th>2016-5</th>\n",
       "      <td>27.271127</td>\n",
       "      <td>23.741627</td>\n",
       "    </tr>\n",
       "  </tbody>\n",
       "</table>\n",
       "</div>"
      ],
      "text/plain": [
       "            Saturday     Sunday\n",
       "year_week                      \n",
       "2016-1     25.816254  26.722467\n",
       "2016-2     26.780142  21.972222\n",
       "2016-3     25.301038  23.509901\n",
       "2016-4     26.166090  23.288372\n",
       "2016-5     27.271127  23.741627"
      ]
     },
     "execution_count": 78,
     "metadata": {},
     "output_type": "execute_result"
    }
   ],
   "source": [
    "visitors_data[['Saturday', 'Sunday']].head()"
   ]
  },
  {
   "cell_type": "markdown",
   "metadata": {},
   "source": [
    "К объектам можно обращаться по индексу. В представленном случае возможны два варианта:"
   ]
  },
  {
   "cell_type": "code",
   "execution_count": 79,
   "metadata": {},
   "outputs": [
    {
     "data": {
      "text/html": [
       "<div>\n",
       "<style scoped>\n",
       "    .dataframe tbody tr th:only-of-type {\n",
       "        vertical-align: middle;\n",
       "    }\n",
       "\n",
       "    .dataframe tbody tr th {\n",
       "        vertical-align: top;\n",
       "    }\n",
       "\n",
       "    .dataframe thead th {\n",
       "        text-align: right;\n",
       "    }\n",
       "</style>\n",
       "<table border=\"1\" class=\"dataframe\">\n",
       "  <thead>\n",
       "    <tr style=\"text-align: right;\">\n",
       "      <th></th>\n",
       "      <th>Monday</th>\n",
       "      <th>Tuesday</th>\n",
       "      <th>Wednesday</th>\n",
       "      <th>Thursday</th>\n",
       "      <th>Friday</th>\n",
       "      <th>Saturday</th>\n",
       "      <th>Sunday</th>\n",
       "    </tr>\n",
       "    <tr>\n",
       "      <th>year_week</th>\n",
       "      <th></th>\n",
       "      <th></th>\n",
       "      <th></th>\n",
       "      <th></th>\n",
       "      <th></th>\n",
       "      <th></th>\n",
       "      <th></th>\n",
       "    </tr>\n",
       "  </thead>\n",
       "  <tbody>\n",
       "    <tr>\n",
       "      <th>2016-6</th>\n",
       "      <td>15.975000</td>\n",
       "      <td>18.018315</td>\n",
       "      <td>23.050360</td>\n",
       "      <td>23.382576</td>\n",
       "      <td>22.083624</td>\n",
       "      <td>25.931034</td>\n",
       "      <td>21.990654</td>\n",
       "    </tr>\n",
       "    <tr>\n",
       "      <th>2016-7</th>\n",
       "      <td>16.783898</td>\n",
       "      <td>17.332075</td>\n",
       "      <td>19.659176</td>\n",
       "      <td>19.768657</td>\n",
       "      <td>23.626298</td>\n",
       "      <td>23.500000</td>\n",
       "      <td>23.827103</td>\n",
       "    </tr>\n",
       "    <tr>\n",
       "      <th>2016-8</th>\n",
       "      <td>17.132159</td>\n",
       "      <td>18.492424</td>\n",
       "      <td>18.073260</td>\n",
       "      <td>20.075000</td>\n",
       "      <td>25.067797</td>\n",
       "      <td>28.986254</td>\n",
       "      <td>25.333333</td>\n",
       "    </tr>\n",
       "    <tr>\n",
       "      <th>2016-9</th>\n",
       "      <td>17.639485</td>\n",
       "      <td>17.288390</td>\n",
       "      <td>19.163043</td>\n",
       "      <td>18.802158</td>\n",
       "      <td>23.505085</td>\n",
       "      <td>28.041812</td>\n",
       "      <td>23.648402</td>\n",
       "    </tr>\n",
       "  </tbody>\n",
       "</table>\n",
       "</div>"
      ],
      "text/plain": [
       "              Monday    Tuesday  Wednesday   Thursday     Friday   Saturday  \\\n",
       "year_week                                                                     \n",
       "2016-6     15.975000  18.018315  23.050360  23.382576  22.083624  25.931034   \n",
       "2016-7     16.783898  17.332075  19.659176  19.768657  23.626298  23.500000   \n",
       "2016-8     17.132159  18.492424  18.073260  20.075000  25.067797  28.986254   \n",
       "2016-9     17.639485  17.288390  19.163043  18.802158  23.505085  28.041812   \n",
       "\n",
       "              Sunday  \n",
       "year_week             \n",
       "2016-6     21.990654  \n",
       "2016-7     23.827103  \n",
       "2016-8     25.333333  \n",
       "2016-9     23.648402  "
      ]
     },
     "execution_count": 79,
     "metadata": {},
     "output_type": "execute_result"
    }
   ],
   "source": [
    "visitors_data[5:9]"
   ]
  },
  {
   "cell_type": "code",
   "execution_count": 80,
   "metadata": {},
   "outputs": [
    {
     "data": {
      "text/html": [
       "<div>\n",
       "<style scoped>\n",
       "    .dataframe tbody tr th:only-of-type {\n",
       "        vertical-align: middle;\n",
       "    }\n",
       "\n",
       "    .dataframe tbody tr th {\n",
       "        vertical-align: top;\n",
       "    }\n",
       "\n",
       "    .dataframe thead th {\n",
       "        text-align: right;\n",
       "    }\n",
       "</style>\n",
       "<table border=\"1\" class=\"dataframe\">\n",
       "  <thead>\n",
       "    <tr style=\"text-align: right;\">\n",
       "      <th></th>\n",
       "      <th>Monday</th>\n",
       "      <th>Tuesday</th>\n",
       "      <th>Wednesday</th>\n",
       "      <th>Thursday</th>\n",
       "      <th>Friday</th>\n",
       "      <th>Saturday</th>\n",
       "      <th>Sunday</th>\n",
       "    </tr>\n",
       "    <tr>\n",
       "      <th>year_week</th>\n",
       "      <th></th>\n",
       "      <th></th>\n",
       "      <th></th>\n",
       "      <th></th>\n",
       "      <th></th>\n",
       "      <th></th>\n",
       "      <th></th>\n",
       "    </tr>\n",
       "  </thead>\n",
       "  <tbody>\n",
       "    <tr>\n",
       "      <th>2016-6</th>\n",
       "      <td>15.975000</td>\n",
       "      <td>18.018315</td>\n",
       "      <td>23.050360</td>\n",
       "      <td>23.382576</td>\n",
       "      <td>22.083624</td>\n",
       "      <td>25.931034</td>\n",
       "      <td>21.990654</td>\n",
       "    </tr>\n",
       "    <tr>\n",
       "      <th>2016-7</th>\n",
       "      <td>16.783898</td>\n",
       "      <td>17.332075</td>\n",
       "      <td>19.659176</td>\n",
       "      <td>19.768657</td>\n",
       "      <td>23.626298</td>\n",
       "      <td>23.500000</td>\n",
       "      <td>23.827103</td>\n",
       "    </tr>\n",
       "    <tr>\n",
       "      <th>2016-8</th>\n",
       "      <td>17.132159</td>\n",
       "      <td>18.492424</td>\n",
       "      <td>18.073260</td>\n",
       "      <td>20.075000</td>\n",
       "      <td>25.067797</td>\n",
       "      <td>28.986254</td>\n",
       "      <td>25.333333</td>\n",
       "    </tr>\n",
       "    <tr>\n",
       "      <th>2016-9</th>\n",
       "      <td>17.639485</td>\n",
       "      <td>17.288390</td>\n",
       "      <td>19.163043</td>\n",
       "      <td>18.802158</td>\n",
       "      <td>23.505085</td>\n",
       "      <td>28.041812</td>\n",
       "      <td>23.648402</td>\n",
       "    </tr>\n",
       "  </tbody>\n",
       "</table>\n",
       "</div>"
      ],
      "text/plain": [
       "              Monday    Tuesday  Wednesday   Thursday     Friday   Saturday  \\\n",
       "year_week                                                                     \n",
       "2016-6     15.975000  18.018315  23.050360  23.382576  22.083624  25.931034   \n",
       "2016-7     16.783898  17.332075  19.659176  19.768657  23.626298  23.500000   \n",
       "2016-8     17.132159  18.492424  18.073260  20.075000  25.067797  28.986254   \n",
       "2016-9     17.639485  17.288390  19.163043  18.802158  23.505085  28.041812   \n",
       "\n",
       "              Sunday  \n",
       "year_week             \n",
       "2016-6     21.990654  \n",
       "2016-7     23.827103  \n",
       "2016-8     25.333333  \n",
       "2016-9     23.648402  "
      ]
     },
     "execution_count": 80,
     "metadata": {},
     "output_type": "execute_result"
    }
   ],
   "source": [
    "visitors_data['2016-6':'2016-9']"
   ]
  },
  {
   "cell_type": "markdown",
   "metadata": {},
   "source": [
    "### 2.2.1. Индексация с помощью `loc` и `iloc`\n",
    "<p><a name=\"loc\"></a></p>"
   ]
  },
  {
   "cell_type": "markdown",
   "metadata": {},
   "source": [
    "К сожалению, обратиться к столбцам по индексу в `pd.DataFrame` не удастся. Если необходимо обратиться и изменить элементы как по строкам, так и по столбцам, оказываются полезными методы `.loc` и `.iloc`, соответствующие конструкции WHERE clause в SQL. `.loc` позволяет обращаться к элементам как непосредственно по их названиям, в то время как `.iloc` возвращает необходимые элементы по их индексам."
   ]
  },
  {
   "cell_type": "code",
   "execution_count": 81,
   "metadata": {},
   "outputs": [
    {
     "data": {
      "text/html": [
       "<div>\n",
       "<style scoped>\n",
       "    .dataframe tbody tr th:only-of-type {\n",
       "        vertical-align: middle;\n",
       "    }\n",
       "\n",
       "    .dataframe tbody tr th {\n",
       "        vertical-align: top;\n",
       "    }\n",
       "\n",
       "    .dataframe thead th {\n",
       "        text-align: right;\n",
       "    }\n",
       "</style>\n",
       "<table border=\"1\" class=\"dataframe\">\n",
       "  <thead>\n",
       "    <tr style=\"text-align: right;\">\n",
       "      <th></th>\n",
       "      <th>Monday</th>\n",
       "      <th>Tuesday</th>\n",
       "      <th>Wednesday</th>\n",
       "      <th>Thursday</th>\n",
       "      <th>Friday</th>\n",
       "      <th>Saturday</th>\n",
       "      <th>Sunday</th>\n",
       "    </tr>\n",
       "    <tr>\n",
       "      <th>year_week</th>\n",
       "      <th></th>\n",
       "      <th></th>\n",
       "      <th></th>\n",
       "      <th></th>\n",
       "      <th></th>\n",
       "      <th></th>\n",
       "      <th></th>\n",
       "    </tr>\n",
       "  </thead>\n",
       "  <tbody>\n",
       "    <tr>\n",
       "      <th>2016-6</th>\n",
       "      <td>15.975000</td>\n",
       "      <td>18.018315</td>\n",
       "      <td>23.050360</td>\n",
       "      <td>23.382576</td>\n",
       "      <td>22.083624</td>\n",
       "      <td>25.931034</td>\n",
       "      <td>21.990654</td>\n",
       "    </tr>\n",
       "    <tr>\n",
       "      <th>2016-7</th>\n",
       "      <td>16.783898</td>\n",
       "      <td>17.332075</td>\n",
       "      <td>19.659176</td>\n",
       "      <td>19.768657</td>\n",
       "      <td>23.626298</td>\n",
       "      <td>23.500000</td>\n",
       "      <td>23.827103</td>\n",
       "    </tr>\n",
       "    <tr>\n",
       "      <th>2016-8</th>\n",
       "      <td>17.132159</td>\n",
       "      <td>18.492424</td>\n",
       "      <td>18.073260</td>\n",
       "      <td>20.075000</td>\n",
       "      <td>25.067797</td>\n",
       "      <td>28.986254</td>\n",
       "      <td>25.333333</td>\n",
       "    </tr>\n",
       "    <tr>\n",
       "      <th>2016-9</th>\n",
       "      <td>17.639485</td>\n",
       "      <td>17.288390</td>\n",
       "      <td>19.163043</td>\n",
       "      <td>18.802158</td>\n",
       "      <td>23.505085</td>\n",
       "      <td>28.041812</td>\n",
       "      <td>23.648402</td>\n",
       "    </tr>\n",
       "  </tbody>\n",
       "</table>\n",
       "</div>"
      ],
      "text/plain": [
       "              Monday    Tuesday  Wednesday   Thursday     Friday   Saturday  \\\n",
       "year_week                                                                     \n",
       "2016-6     15.975000  18.018315  23.050360  23.382576  22.083624  25.931034   \n",
       "2016-7     16.783898  17.332075  19.659176  19.768657  23.626298  23.500000   \n",
       "2016-8     17.132159  18.492424  18.073260  20.075000  25.067797  28.986254   \n",
       "2016-9     17.639485  17.288390  19.163043  18.802158  23.505085  28.041812   \n",
       "\n",
       "              Sunday  \n",
       "year_week             \n",
       "2016-6     21.990654  \n",
       "2016-7     23.827103  \n",
       "2016-8     25.333333  \n",
       "2016-9     23.648402  "
      ]
     },
     "execution_count": 81,
     "metadata": {},
     "output_type": "execute_result"
    }
   ],
   "source": [
    "visitors_data.iloc[5:9]"
   ]
  },
  {
   "cell_type": "code",
   "execution_count": 82,
   "metadata": {},
   "outputs": [
    {
     "data": {
      "text/plain": [
       "year_week\n",
       "2016-6    23.050360\n",
       "2016-7    19.659176\n",
       "2016-8    18.073260\n",
       "2016-9    19.163043\n",
       "Name: Wednesday, dtype: float64"
      ]
     },
     "execution_count": 82,
     "metadata": {},
     "output_type": "execute_result"
    }
   ],
   "source": [
    "visitors_data.iloc[5:9, 2]"
   ]
  },
  {
   "cell_type": "code",
   "execution_count": 83,
   "metadata": {},
   "outputs": [
    {
     "data": {
      "text/plain": [
       "year_week\n",
       "2016-6    23.050360\n",
       "2016-7    19.659176\n",
       "2016-8    18.073260\n",
       "2016-9    19.163043\n",
       "Name: Wednesday, dtype: float64"
      ]
     },
     "execution_count": 83,
     "metadata": {},
     "output_type": "execute_result"
    }
   ],
   "source": [
    "visitors_data.loc['2016-6':'2016-9', 'Wednesday']"
   ]
  },
  {
   "cell_type": "markdown",
   "metadata": {},
   "source": [
    "### 2.2.2. Булева индексация\n",
    "<p><a name=\"bool\"></a></p>"
   ]
  },
  {
   "cell_type": "markdown",
   "metadata": {},
   "source": [
    "Аналогично индексакции в NumPy, булева индексация позволяет извлекать данные, удовлетворяющие условию. Выведем, например, только те недели, где суммарное количество поситителей было меньше 140. Также возможно задать несколько условий."
   ]
  },
  {
   "cell_type": "code",
   "execution_count": 84,
   "metadata": {},
   "outputs": [],
   "source": [
    "total_visitors = visitors_data.sum(axis=1)"
   ]
  },
  {
   "cell_type": "code",
   "execution_count": 85,
   "metadata": {},
   "outputs": [
    {
     "data": {
      "text/plain": [
       "year_week\n",
       "2016-31    136.307445\n",
       "2016-33    139.081313\n",
       "2016-34    138.491839\n",
       "2016-35    133.618217\n",
       "2016-36    138.468104\n",
       "2016-37    139.888712\n",
       "2016-38    139.748833\n",
       "2016-40    136.732213\n",
       "2016-45    133.554165\n",
       "2016-46    139.393388\n",
       "2016-53     78.755401\n",
       "2017-2     132.686500\n",
       "2017-3     135.209113\n",
       "2017-5     134.623299\n",
       "2017-6     137.841730\n",
       "2017-16    124.931888\n",
       "2017-52     23.102041\n",
       "dtype: float64"
      ]
     },
     "execution_count": 85,
     "metadata": {},
     "output_type": "execute_result"
    }
   ],
   "source": [
    "total_visitors[total_visitors < 140]"
   ]
  },
  {
   "cell_type": "code",
   "execution_count": 86,
   "metadata": {},
   "outputs": [
    {
     "data": {
      "text/html": [
       "<div>\n",
       "<style scoped>\n",
       "    .dataframe tbody tr th:only-of-type {\n",
       "        vertical-align: middle;\n",
       "    }\n",
       "\n",
       "    .dataframe tbody tr th {\n",
       "        vertical-align: top;\n",
       "    }\n",
       "\n",
       "    .dataframe thead th {\n",
       "        text-align: right;\n",
       "    }\n",
       "</style>\n",
       "<table border=\"1\" class=\"dataframe\">\n",
       "  <thead>\n",
       "    <tr style=\"text-align: right;\">\n",
       "      <th></th>\n",
       "      <th>Monday</th>\n",
       "      <th>Tuesday</th>\n",
       "      <th>Wednesday</th>\n",
       "      <th>Thursday</th>\n",
       "      <th>Friday</th>\n",
       "      <th>Saturday</th>\n",
       "      <th>Sunday</th>\n",
       "    </tr>\n",
       "    <tr>\n",
       "      <th>year_week</th>\n",
       "      <th></th>\n",
       "      <th></th>\n",
       "      <th></th>\n",
       "      <th></th>\n",
       "      <th></th>\n",
       "      <th></th>\n",
       "      <th></th>\n",
       "    </tr>\n",
       "  </thead>\n",
       "  <tbody>\n",
       "    <tr>\n",
       "      <th>2016-11</th>\n",
       "      <td>17.521008</td>\n",
       "      <td>19.787546</td>\n",
       "      <td>20.884477</td>\n",
       "      <td>21.595745</td>\n",
       "      <td>26.744027</td>\n",
       "      <td>28.077193</td>\n",
       "      <td>29.899582</td>\n",
       "    </tr>\n",
       "    <tr>\n",
       "      <th>2016-53</th>\n",
       "      <td>0.000000</td>\n",
       "      <td>0.000000</td>\n",
       "      <td>0.000000</td>\n",
       "      <td>0.000000</td>\n",
       "      <td>21.520833</td>\n",
       "      <td>28.000000</td>\n",
       "      <td>29.234568</td>\n",
       "    </tr>\n",
       "    <tr>\n",
       "      <th>2017-11</th>\n",
       "      <td>17.643609</td>\n",
       "      <td>18.795330</td>\n",
       "      <td>19.173025</td>\n",
       "      <td>19.857332</td>\n",
       "      <td>24.420526</td>\n",
       "      <td>27.617876</td>\n",
       "      <td>30.252747</td>\n",
       "    </tr>\n",
       "    <tr>\n",
       "      <th>2017-52</th>\n",
       "      <td>0.000000</td>\n",
       "      <td>0.000000</td>\n",
       "      <td>0.000000</td>\n",
       "      <td>0.000000</td>\n",
       "      <td>0.000000</td>\n",
       "      <td>0.000000</td>\n",
       "      <td>23.102041</td>\n",
       "    </tr>\n",
       "  </tbody>\n",
       "</table>\n",
       "</div>"
      ],
      "text/plain": [
       "              Monday    Tuesday  Wednesday   Thursday     Friday   Saturday  \\\n",
       "year_week                                                                     \n",
       "2016-11    17.521008  19.787546  20.884477  21.595745  26.744027  28.077193   \n",
       "2016-53     0.000000   0.000000   0.000000   0.000000  21.520833  28.000000   \n",
       "2017-11    17.643609  18.795330  19.173025  19.857332  24.420526  27.617876   \n",
       "2017-52     0.000000   0.000000   0.000000   0.000000   0.000000   0.000000   \n",
       "\n",
       "              Sunday  \n",
       "year_week             \n",
       "2016-11    29.899582  \n",
       "2016-53    29.234568  \n",
       "2017-11    30.252747  \n",
       "2017-52    23.102041  "
      ]
     },
     "execution_count": 86,
     "metadata": {},
     "output_type": "execute_result"
    }
   ],
   "source": [
    "visitors_data[(visitors_data['Monday'] < 10) | (visitors_data['Sunday'] > 28)]"
   ]
  },
  {
   "cell_type": "markdown",
   "metadata": {},
   "source": [
    "<div class=\"alert alert-info\">\n",
    "\n",
    "<h3> Упражнения</h3>\n",
    "<p></p>\n",
    "\n",
    " <ol>\n",
    "  <li>Вывести записи, где число посетителей было больше медианного значения.</li>\n",
    " <p></p>\n",
    "\n",
    "      \n",
    "  <li>Для каждой недели посчитать разницу в числе посетителей в пятницу и субботу. Отобразить полученный временной ряд.</li>\n",
    "<p></p>\n",
    "  \n",
    "\n",
    " </ol> \n",
    "</div>"
   ]
  },
  {
   "cell_type": "code",
   "execution_count": 88,
   "metadata": {},
   "outputs": [
    {
     "data": {
      "text/plain": [
       "year_week\n",
       "2016-1     20.913180\n",
       "2016-2     21.120576\n",
       "2016-3     20.152535\n",
       "2016-4     20.491504\n",
       "2016-5     20.168152\n",
       "             ...    \n",
       "2017-13    22.687438\n",
       "2017-14    20.867631\n",
       "2017-15    21.192027\n",
       "2017-16    17.847413\n",
       "2017-52     3.300292\n",
       "Length: 70, dtype: float64"
      ]
     },
     "execution_count": 88,
     "metadata": {},
     "output_type": "execute_result"
    }
   ],
   "source": [
    "average_visitors = visitors_data.mean(axis=1)\n",
    "total_visitors = visitors_data.sum(axis=1)"
   ]
  },
  {
   "cell_type": "code",
   "execution_count": null,
   "metadata": {},
   "outputs": [],
   "source": []
  },
  {
   "cell_type": "markdown",
   "metadata": {},
   "source": [
    "## 2.3. Добавление и удаление объектов\n",
    "<p><a name=\"append\"></a></p>"
   ]
  },
  {
   "cell_type": "markdown",
   "metadata": {},
   "source": [
    "Для добавления новых записей в имеющуюся таблицу можно воспользоваться методами `.loc` и `.iloc` при добавлении записей по одной, а также методом `append` при добавлении целой таблицы."
   ]
  },
  {
   "cell_type": "code",
   "execution_count": 89,
   "metadata": {
    "scrolled": true
   },
   "outputs": [
    {
     "data": {
      "text/html": [
       "<div>\n",
       "<style scoped>\n",
       "    .dataframe tbody tr th:only-of-type {\n",
       "        vertical-align: middle;\n",
       "    }\n",
       "\n",
       "    .dataframe tbody tr th {\n",
       "        vertical-align: top;\n",
       "    }\n",
       "\n",
       "    .dataframe thead th {\n",
       "        text-align: right;\n",
       "    }\n",
       "</style>\n",
       "<table border=\"1\" class=\"dataframe\">\n",
       "  <thead>\n",
       "    <tr style=\"text-align: right;\">\n",
       "      <th></th>\n",
       "      <th>Monday</th>\n",
       "      <th>Tuesday</th>\n",
       "      <th>Wednesday</th>\n",
       "      <th>Thursday</th>\n",
       "      <th>Friday</th>\n",
       "      <th>Saturday</th>\n",
       "      <th>Sunday</th>\n",
       "    </tr>\n",
       "    <tr>\n",
       "      <th>year_week</th>\n",
       "      <th></th>\n",
       "      <th></th>\n",
       "      <th></th>\n",
       "      <th></th>\n",
       "      <th></th>\n",
       "      <th></th>\n",
       "      <th></th>\n",
       "    </tr>\n",
       "  </thead>\n",
       "  <tbody>\n",
       "    <tr>\n",
       "      <th>2017-13</th>\n",
       "      <td>18.335832</td>\n",
       "      <td>20.798913</td>\n",
       "      <td>22.779452</td>\n",
       "      <td>21.936842</td>\n",
       "      <td>24.328244</td>\n",
       "      <td>25.810636</td>\n",
       "      <td>24.822148</td>\n",
       "    </tr>\n",
       "    <tr>\n",
       "      <th>2017-14</th>\n",
       "      <td>18.138675</td>\n",
       "      <td>18.211405</td>\n",
       "      <td>19.489655</td>\n",
       "      <td>18.143048</td>\n",
       "      <td>22.868455</td>\n",
       "      <td>26.203632</td>\n",
       "      <td>23.018550</td>\n",
       "    </tr>\n",
       "    <tr>\n",
       "      <th>2017-15</th>\n",
       "      <td>16.188563</td>\n",
       "      <td>15.113103</td>\n",
       "      <td>19.142657</td>\n",
       "      <td>18.969657</td>\n",
       "      <td>24.745891</td>\n",
       "      <td>28.345502</td>\n",
       "      <td>25.838816</td>\n",
       "    </tr>\n",
       "    <tr>\n",
       "      <th>2017-16</th>\n",
       "      <td>15.217187</td>\n",
       "      <td>18.656985</td>\n",
       "      <td>19.900545</td>\n",
       "      <td>18.678238</td>\n",
       "      <td>25.030612</td>\n",
       "      <td>27.448320</td>\n",
       "      <td>0.000000</td>\n",
       "    </tr>\n",
       "    <tr>\n",
       "      <th>2017-52</th>\n",
       "      <td>0.000000</td>\n",
       "      <td>0.000000</td>\n",
       "      <td>0.000000</td>\n",
       "      <td>0.000000</td>\n",
       "      <td>0.000000</td>\n",
       "      <td>0.000000</td>\n",
       "      <td>23.102041</td>\n",
       "    </tr>\n",
       "  </tbody>\n",
       "</table>\n",
       "</div>"
      ],
      "text/plain": [
       "              Monday    Tuesday  Wednesday   Thursday     Friday   Saturday  \\\n",
       "year_week                                                                     \n",
       "2017-13    18.335832  20.798913  22.779452  21.936842  24.328244  25.810636   \n",
       "2017-14    18.138675  18.211405  19.489655  18.143048  22.868455  26.203632   \n",
       "2017-15    16.188563  15.113103  19.142657  18.969657  24.745891  28.345502   \n",
       "2017-16    15.217187  18.656985  19.900545  18.678238  25.030612  27.448320   \n",
       "2017-52     0.000000   0.000000   0.000000   0.000000   0.000000   0.000000   \n",
       "\n",
       "              Sunday  \n",
       "year_week             \n",
       "2017-13    24.822148  \n",
       "2017-14    23.018550  \n",
       "2017-15    25.838816  \n",
       "2017-16     0.000000  \n",
       "2017-52    23.102041  "
      ]
     },
     "execution_count": 89,
     "metadata": {},
     "output_type": "execute_result"
    }
   ],
   "source": [
    "visitors_data.tail()"
   ]
  },
  {
   "cell_type": "code",
   "execution_count": 90,
   "metadata": {},
   "outputs": [],
   "source": [
    "visitors_data.loc['2017-17'] = visitors_data.median()"
   ]
  },
  {
   "cell_type": "code",
   "execution_count": 91,
   "metadata": {},
   "outputs": [
    {
     "data": {
      "text/html": [
       "<div>\n",
       "<style scoped>\n",
       "    .dataframe tbody tr th:only-of-type {\n",
       "        vertical-align: middle;\n",
       "    }\n",
       "\n",
       "    .dataframe tbody tr th {\n",
       "        vertical-align: top;\n",
       "    }\n",
       "\n",
       "    .dataframe thead th {\n",
       "        text-align: right;\n",
       "    }\n",
       "</style>\n",
       "<table border=\"1\" class=\"dataframe\">\n",
       "  <thead>\n",
       "    <tr style=\"text-align: right;\">\n",
       "      <th></th>\n",
       "      <th>Monday</th>\n",
       "      <th>Tuesday</th>\n",
       "      <th>Wednesday</th>\n",
       "      <th>Thursday</th>\n",
       "      <th>Friday</th>\n",
       "      <th>Saturday</th>\n",
       "      <th>Sunday</th>\n",
       "    </tr>\n",
       "    <tr>\n",
       "      <th>year_week</th>\n",
       "      <th></th>\n",
       "      <th></th>\n",
       "      <th></th>\n",
       "      <th></th>\n",
       "      <th></th>\n",
       "      <th></th>\n",
       "      <th></th>\n",
       "    </tr>\n",
       "  </thead>\n",
       "  <tbody>\n",
       "    <tr>\n",
       "      <th>2017-14</th>\n",
       "      <td>18.138675</td>\n",
       "      <td>18.211405</td>\n",
       "      <td>19.489655</td>\n",
       "      <td>18.143048</td>\n",
       "      <td>22.868455</td>\n",
       "      <td>26.203632</td>\n",
       "      <td>23.018550</td>\n",
       "    </tr>\n",
       "    <tr>\n",
       "      <th>2017-15</th>\n",
       "      <td>16.188563</td>\n",
       "      <td>15.113103</td>\n",
       "      <td>19.142657</td>\n",
       "      <td>18.969657</td>\n",
       "      <td>24.745891</td>\n",
       "      <td>28.345502</td>\n",
       "      <td>25.838816</td>\n",
       "    </tr>\n",
       "    <tr>\n",
       "      <th>2017-16</th>\n",
       "      <td>15.217187</td>\n",
       "      <td>18.656985</td>\n",
       "      <td>19.900545</td>\n",
       "      <td>18.678238</td>\n",
       "      <td>25.030612</td>\n",
       "      <td>27.448320</td>\n",
       "      <td>0.000000</td>\n",
       "    </tr>\n",
       "    <tr>\n",
       "      <th>2017-52</th>\n",
       "      <td>0.000000</td>\n",
       "      <td>0.000000</td>\n",
       "      <td>0.000000</td>\n",
       "      <td>0.000000</td>\n",
       "      <td>0.000000</td>\n",
       "      <td>0.000000</td>\n",
       "      <td>23.102041</td>\n",
       "    </tr>\n",
       "    <tr>\n",
       "      <th>2017-17</th>\n",
       "      <td>16.708233</td>\n",
       "      <td>17.359220</td>\n",
       "      <td>18.962222</td>\n",
       "      <td>18.699464</td>\n",
       "      <td>23.253743</td>\n",
       "      <td>26.506578</td>\n",
       "      <td>23.736603</td>\n",
       "    </tr>\n",
       "  </tbody>\n",
       "</table>\n",
       "</div>"
      ],
      "text/plain": [
       "              Monday    Tuesday  Wednesday   Thursday     Friday   Saturday  \\\n",
       "year_week                                                                     \n",
       "2017-14    18.138675  18.211405  19.489655  18.143048  22.868455  26.203632   \n",
       "2017-15    16.188563  15.113103  19.142657  18.969657  24.745891  28.345502   \n",
       "2017-16    15.217187  18.656985  19.900545  18.678238  25.030612  27.448320   \n",
       "2017-52     0.000000   0.000000   0.000000   0.000000   0.000000   0.000000   \n",
       "2017-17    16.708233  17.359220  18.962222  18.699464  23.253743  26.506578   \n",
       "\n",
       "              Sunday  \n",
       "year_week             \n",
       "2017-14    23.018550  \n",
       "2017-15    25.838816  \n",
       "2017-16     0.000000  \n",
       "2017-52    23.102041  \n",
       "2017-17    23.736603  "
      ]
     },
     "execution_count": 91,
     "metadata": {},
     "output_type": "execute_result"
    }
   ],
   "source": [
    "visitors_data.tail()"
   ]
  },
  {
   "cell_type": "code",
   "execution_count": 92,
   "metadata": {},
   "outputs": [],
   "source": [
    "to_update = visitors_data.tail(3)\n",
    "to_update.index = ['2017-18', '2017-19', '2017-20']"
   ]
  },
  {
   "cell_type": "code",
   "execution_count": 93,
   "metadata": {
    "scrolled": true
   },
   "outputs": [
    {
     "data": {
      "text/html": [
       "<div>\n",
       "<style scoped>\n",
       "    .dataframe tbody tr th:only-of-type {\n",
       "        vertical-align: middle;\n",
       "    }\n",
       "\n",
       "    .dataframe tbody tr th {\n",
       "        vertical-align: top;\n",
       "    }\n",
       "\n",
       "    .dataframe thead th {\n",
       "        text-align: right;\n",
       "    }\n",
       "</style>\n",
       "<table border=\"1\" class=\"dataframe\">\n",
       "  <thead>\n",
       "    <tr style=\"text-align: right;\">\n",
       "      <th></th>\n",
       "      <th>Monday</th>\n",
       "      <th>Tuesday</th>\n",
       "      <th>Wednesday</th>\n",
       "      <th>Thursday</th>\n",
       "      <th>Friday</th>\n",
       "      <th>Saturday</th>\n",
       "      <th>Sunday</th>\n",
       "    </tr>\n",
       "  </thead>\n",
       "  <tbody>\n",
       "    <tr>\n",
       "      <th>2017-16</th>\n",
       "      <td>15.217187</td>\n",
       "      <td>18.656985</td>\n",
       "      <td>19.900545</td>\n",
       "      <td>18.678238</td>\n",
       "      <td>25.030612</td>\n",
       "      <td>27.448320</td>\n",
       "      <td>0.000000</td>\n",
       "    </tr>\n",
       "    <tr>\n",
       "      <th>2017-52</th>\n",
       "      <td>0.000000</td>\n",
       "      <td>0.000000</td>\n",
       "      <td>0.000000</td>\n",
       "      <td>0.000000</td>\n",
       "      <td>0.000000</td>\n",
       "      <td>0.000000</td>\n",
       "      <td>23.102041</td>\n",
       "    </tr>\n",
       "    <tr>\n",
       "      <th>2017-17</th>\n",
       "      <td>16.708233</td>\n",
       "      <td>17.359220</td>\n",
       "      <td>18.962222</td>\n",
       "      <td>18.699464</td>\n",
       "      <td>23.253743</td>\n",
       "      <td>26.506578</td>\n",
       "      <td>23.736603</td>\n",
       "    </tr>\n",
       "    <tr>\n",
       "      <th>2017-18</th>\n",
       "      <td>15.217187</td>\n",
       "      <td>18.656985</td>\n",
       "      <td>19.900545</td>\n",
       "      <td>18.678238</td>\n",
       "      <td>25.030612</td>\n",
       "      <td>27.448320</td>\n",
       "      <td>0.000000</td>\n",
       "    </tr>\n",
       "    <tr>\n",
       "      <th>2017-19</th>\n",
       "      <td>0.000000</td>\n",
       "      <td>0.000000</td>\n",
       "      <td>0.000000</td>\n",
       "      <td>0.000000</td>\n",
       "      <td>0.000000</td>\n",
       "      <td>0.000000</td>\n",
       "      <td>23.102041</td>\n",
       "    </tr>\n",
       "    <tr>\n",
       "      <th>2017-20</th>\n",
       "      <td>16.708233</td>\n",
       "      <td>17.359220</td>\n",
       "      <td>18.962222</td>\n",
       "      <td>18.699464</td>\n",
       "      <td>23.253743</td>\n",
       "      <td>26.506578</td>\n",
       "      <td>23.736603</td>\n",
       "    </tr>\n",
       "  </tbody>\n",
       "</table>\n",
       "</div>"
      ],
      "text/plain": [
       "            Monday    Tuesday  Wednesday   Thursday     Friday   Saturday  \\\n",
       "2017-16  15.217187  18.656985  19.900545  18.678238  25.030612  27.448320   \n",
       "2017-52   0.000000   0.000000   0.000000   0.000000   0.000000   0.000000   \n",
       "2017-17  16.708233  17.359220  18.962222  18.699464  23.253743  26.506578   \n",
       "2017-18  15.217187  18.656985  19.900545  18.678238  25.030612  27.448320   \n",
       "2017-19   0.000000   0.000000   0.000000   0.000000   0.000000   0.000000   \n",
       "2017-20  16.708233  17.359220  18.962222  18.699464  23.253743  26.506578   \n",
       "\n",
       "            Sunday  \n",
       "2017-16   0.000000  \n",
       "2017-52  23.102041  \n",
       "2017-17  23.736603  \n",
       "2017-18   0.000000  \n",
       "2017-19  23.102041  \n",
       "2017-20  23.736603  "
      ]
     },
     "execution_count": 93,
     "metadata": {},
     "output_type": "execute_result"
    }
   ],
   "source": [
    "visitors_data.append(to_update).tail(6)"
   ]
  },
  {
   "cell_type": "markdown",
   "metadata": {},
   "source": [
    "Удаление объектов и столбцов производится методом `.drop` с указанием `axis=0`, если удалить необходимо строки и `axis=1`, если столбцы. Удалим таким образом строку, соответствующую 52 неделе 2017 года. Исходный массив данных при этом не изменится. К изменению исходного массива данных приводит указание опции `inplace=True`."
   ]
  },
  {
   "cell_type": "code",
   "execution_count": 94,
   "metadata": {},
   "outputs": [
    {
     "data": {
      "text/html": [
       "<div>\n",
       "<style scoped>\n",
       "    .dataframe tbody tr th:only-of-type {\n",
       "        vertical-align: middle;\n",
       "    }\n",
       "\n",
       "    .dataframe tbody tr th {\n",
       "        vertical-align: top;\n",
       "    }\n",
       "\n",
       "    .dataframe thead th {\n",
       "        text-align: right;\n",
       "    }\n",
       "</style>\n",
       "<table border=\"1\" class=\"dataframe\">\n",
       "  <thead>\n",
       "    <tr style=\"text-align: right;\">\n",
       "      <th></th>\n",
       "      <th>Monday</th>\n",
       "      <th>Tuesday</th>\n",
       "      <th>Wednesday</th>\n",
       "      <th>Thursday</th>\n",
       "      <th>Friday</th>\n",
       "      <th>Saturday</th>\n",
       "      <th>Sunday</th>\n",
       "    </tr>\n",
       "    <tr>\n",
       "      <th>year_week</th>\n",
       "      <th></th>\n",
       "      <th></th>\n",
       "      <th></th>\n",
       "      <th></th>\n",
       "      <th></th>\n",
       "      <th></th>\n",
       "      <th></th>\n",
       "    </tr>\n",
       "  </thead>\n",
       "  <tbody>\n",
       "    <tr>\n",
       "      <th>2017-13</th>\n",
       "      <td>18.335832</td>\n",
       "      <td>20.798913</td>\n",
       "      <td>22.779452</td>\n",
       "      <td>21.936842</td>\n",
       "      <td>24.328244</td>\n",
       "      <td>25.810636</td>\n",
       "      <td>24.822148</td>\n",
       "    </tr>\n",
       "    <tr>\n",
       "      <th>2017-14</th>\n",
       "      <td>18.138675</td>\n",
       "      <td>18.211405</td>\n",
       "      <td>19.489655</td>\n",
       "      <td>18.143048</td>\n",
       "      <td>22.868455</td>\n",
       "      <td>26.203632</td>\n",
       "      <td>23.018550</td>\n",
       "    </tr>\n",
       "    <tr>\n",
       "      <th>2017-15</th>\n",
       "      <td>16.188563</td>\n",
       "      <td>15.113103</td>\n",
       "      <td>19.142657</td>\n",
       "      <td>18.969657</td>\n",
       "      <td>24.745891</td>\n",
       "      <td>28.345502</td>\n",
       "      <td>25.838816</td>\n",
       "    </tr>\n",
       "    <tr>\n",
       "      <th>2017-16</th>\n",
       "      <td>15.217187</td>\n",
       "      <td>18.656985</td>\n",
       "      <td>19.900545</td>\n",
       "      <td>18.678238</td>\n",
       "      <td>25.030612</td>\n",
       "      <td>27.448320</td>\n",
       "      <td>0.000000</td>\n",
       "    </tr>\n",
       "    <tr>\n",
       "      <th>2017-17</th>\n",
       "      <td>16.708233</td>\n",
       "      <td>17.359220</td>\n",
       "      <td>18.962222</td>\n",
       "      <td>18.699464</td>\n",
       "      <td>23.253743</td>\n",
       "      <td>26.506578</td>\n",
       "      <td>23.736603</td>\n",
       "    </tr>\n",
       "  </tbody>\n",
       "</table>\n",
       "</div>"
      ],
      "text/plain": [
       "              Monday    Tuesday  Wednesday   Thursday     Friday   Saturday  \\\n",
       "year_week                                                                     \n",
       "2017-13    18.335832  20.798913  22.779452  21.936842  24.328244  25.810636   \n",
       "2017-14    18.138675  18.211405  19.489655  18.143048  22.868455  26.203632   \n",
       "2017-15    16.188563  15.113103  19.142657  18.969657  24.745891  28.345502   \n",
       "2017-16    15.217187  18.656985  19.900545  18.678238  25.030612  27.448320   \n",
       "2017-17    16.708233  17.359220  18.962222  18.699464  23.253743  26.506578   \n",
       "\n",
       "              Sunday  \n",
       "year_week             \n",
       "2017-13    24.822148  \n",
       "2017-14    23.018550  \n",
       "2017-15    25.838816  \n",
       "2017-16     0.000000  \n",
       "2017-17    23.736603  "
      ]
     },
     "execution_count": 94,
     "metadata": {},
     "output_type": "execute_result"
    }
   ],
   "source": [
    "visitors_data.drop('2017-52', axis=0).tail()"
   ]
  },
  {
   "cell_type": "code",
   "execution_count": 95,
   "metadata": {},
   "outputs": [
    {
     "data": {
      "text/html": [
       "<div>\n",
       "<style scoped>\n",
       "    .dataframe tbody tr th:only-of-type {\n",
       "        vertical-align: middle;\n",
       "    }\n",
       "\n",
       "    .dataframe tbody tr th {\n",
       "        vertical-align: top;\n",
       "    }\n",
       "\n",
       "    .dataframe thead th {\n",
       "        text-align: right;\n",
       "    }\n",
       "</style>\n",
       "<table border=\"1\" class=\"dataframe\">\n",
       "  <thead>\n",
       "    <tr style=\"text-align: right;\">\n",
       "      <th></th>\n",
       "      <th>Monday</th>\n",
       "      <th>Tuesday</th>\n",
       "      <th>Wednesday</th>\n",
       "      <th>Thursday</th>\n",
       "      <th>Friday</th>\n",
       "      <th>Saturday</th>\n",
       "    </tr>\n",
       "    <tr>\n",
       "      <th>year_week</th>\n",
       "      <th></th>\n",
       "      <th></th>\n",
       "      <th></th>\n",
       "      <th></th>\n",
       "      <th></th>\n",
       "      <th></th>\n",
       "    </tr>\n",
       "  </thead>\n",
       "  <tbody>\n",
       "    <tr>\n",
       "      <th>2016-1</th>\n",
       "      <td>21.184713</td>\n",
       "      <td>17.000000</td>\n",
       "      <td>16.616000</td>\n",
       "      <td>16.977011</td>\n",
       "      <td>22.075812</td>\n",
       "      <td>25.816254</td>\n",
       "    </tr>\n",
       "    <tr>\n",
       "      <th>2016-2</th>\n",
       "      <td>22.123762</td>\n",
       "      <td>15.797619</td>\n",
       "      <td>18.433460</td>\n",
       "      <td>19.229927</td>\n",
       "      <td>23.506897</td>\n",
       "      <td>26.780142</td>\n",
       "    </tr>\n",
       "    <tr>\n",
       "      <th>2016-3</th>\n",
       "      <td>14.486726</td>\n",
       "      <td>16.524345</td>\n",
       "      <td>18.262357</td>\n",
       "      <td>19.431655</td>\n",
       "      <td>23.551724</td>\n",
       "      <td>25.301038</td>\n",
       "    </tr>\n",
       "    <tr>\n",
       "      <th>2016-4</th>\n",
       "      <td>16.300847</td>\n",
       "      <td>18.041509</td>\n",
       "      <td>19.448905</td>\n",
       "      <td>18.871886</td>\n",
       "      <td>21.322917</td>\n",
       "      <td>26.166090</td>\n",
       "    </tr>\n",
       "    <tr>\n",
       "      <th>2016-5</th>\n",
       "      <td>15.952174</td>\n",
       "      <td>16.442804</td>\n",
       "      <td>17.488806</td>\n",
       "      <td>17.911032</td>\n",
       "      <td>22.369492</td>\n",
       "      <td>27.271127</td>\n",
       "    </tr>\n",
       "  </tbody>\n",
       "</table>\n",
       "</div>"
      ],
      "text/plain": [
       "              Monday    Tuesday  Wednesday   Thursday     Friday   Saturday\n",
       "year_week                                                                  \n",
       "2016-1     21.184713  17.000000  16.616000  16.977011  22.075812  25.816254\n",
       "2016-2     22.123762  15.797619  18.433460  19.229927  23.506897  26.780142\n",
       "2016-3     14.486726  16.524345  18.262357  19.431655  23.551724  25.301038\n",
       "2016-4     16.300847  18.041509  19.448905  18.871886  21.322917  26.166090\n",
       "2016-5     15.952174  16.442804  17.488806  17.911032  22.369492  27.271127"
      ]
     },
     "execution_count": 95,
     "metadata": {},
     "output_type": "execute_result"
    }
   ],
   "source": [
    "visitors_data.drop('Sunday', axis=1, inplace=False).head()"
   ]
  },
  {
   "cell_type": "markdown",
   "metadata": {},
   "source": [
    "Опция `axis` также оказывается полезной, если нужно суммировать не по столбцам, а по строкам. По умолчанию `axis=0`."
   ]
  },
  {
   "cell_type": "code",
   "execution_count": 96,
   "metadata": {},
   "outputs": [
    {
     "data": {
      "text/plain": [
       "Monday       1209.752303\n",
       "Tuesday      1237.131452\n",
       "Wednesday    1334.265491\n",
       "Thursday     1321.271644\n",
       "Friday       1631.263273\n",
       "Saturday     1856.734320\n",
       "Sunday       1662.800181\n",
       "dtype: float64"
      ]
     },
     "execution_count": 96,
     "metadata": {},
     "output_type": "execute_result"
    }
   ],
   "source": [
    "visitors_data.sum(axis=0)"
   ]
  },
  {
   "cell_type": "code",
   "execution_count": 97,
   "metadata": {},
   "outputs": [
    {
     "data": {
      "text/plain": [
       "year_week\n",
       "2016-1     146.392259\n",
       "2016-2     147.844029\n",
       "2016-3     141.067746\n",
       "2016-4     143.440527\n",
       "2016-5     141.177061\n",
       "              ...    \n",
       "2017-14    146.073419\n",
       "2017-15    148.344189\n",
       "2017-16    124.931888\n",
       "2017-52     23.102041\n",
       "2017-17    145.226063\n",
       "Length: 71, dtype: float64"
      ]
     },
     "execution_count": 97,
     "metadata": {},
     "output_type": "execute_result"
    }
   ],
   "source": [
    "visitors_data.sum(axis=1)"
   ]
  },
  {
   "cell_type": "markdown",
   "metadata": {},
   "source": [
    "## 2.4. Заполнение пропусков\n",
    "<p><a name=\"fillna\"></a></p>"
   ]
  },
  {
   "cell_type": "markdown",
   "metadata": {},
   "source": [
    "Довольно распространена ситуация, когда в данных имеются пропуски. Это может быть связано с техническими проблемами, например, при загрузке данных по погоде можно заметить отсутствие данных за 31 декабря и 1 января, поскольку в эти дни погодная станция, предоставляющая информацию, не работала. Могут возникать сбои в работе торговой точки, что приведет к отсутствию данных о транзакциях в определенные часы. Тем не менее, для построения модели прогнозирования, необходимо устранить пропуски, возникшие из-за подобных сбоев.\n",
    "\n",
    "В зависимости от причины возникновения пропусков принимается решение о том, чем их можно было бы заполнить. Наиболее простые способы устранения пропусков во временных рядах замена:\n",
    "- предшествующим известным значением;\n",
    "- следующим известным значением;\n",
    "- средним между соседними известными значениями.\n",
    "\n",
    "Такие возможности предоставляют методы `.fillna()` и `.interpolate()`."
   ]
  },
  {
   "cell_type": "code",
   "execution_count": null,
   "metadata": {},
   "outputs": [],
   "source": [
    "s = pd.Series([0, 1, np.nan, 3, 4, np.nan, 9])"
   ]
  },
  {
   "cell_type": "code",
   "execution_count": null,
   "metadata": {},
   "outputs": [],
   "source": [
    "s.fillna(0)"
   ]
  },
  {
   "cell_type": "code",
   "execution_count": null,
   "metadata": {},
   "outputs": [],
   "source": [
    "s.fillna(method='ffill')"
   ]
  },
  {
   "cell_type": "code",
   "execution_count": null,
   "metadata": {},
   "outputs": [],
   "source": [
    "s.fillna(method='bfill')"
   ]
  },
  {
   "cell_type": "code",
   "execution_count": null,
   "metadata": {},
   "outputs": [],
   "source": [
    "s.interpolate()"
   ]
  },
  {
   "cell_type": "markdown",
   "metadata": {},
   "source": [
    "## 2.5. Группировка данных\n",
    "<p><a name=\"group\"></a></p>"
   ]
  },
  {
   "cell_type": "markdown",
   "metadata": {},
   "source": [
    "Вернемся к набору данных о минимальной температуре воздуха. Преобразуем исходный ряд. Сгруппируем данные по годам и месяцам, чтобы найти среднюю температуру в каждый из месяцев. Для группировки данных воспользуемся методом `.groupby`. Данная операция аналогична конструкции GROUP BY в SQL и состоит из трех шагов, иногда ее называют **\"split-apply-combine\"**.\n",
    "\n",
    "<ul>\n",
    "    <li><b>Split</b>: данные делятся на группы по заданному критерию.</li>\n",
    "    <li><b>Apply</b>: к каждой группе применяется необходимая операция.</li>\n",
    "    <li><b>Combine</b>: результат собирается в таблицу.</li>\n",
    "</ul>"
   ]
  },
  {
   "cell_type": "code",
   "execution_count": 98,
   "metadata": {},
   "outputs": [],
   "source": [
    "mean_temp = temperature_data.groupby([\n",
    "    temperature_data.index.year, temperature_data.index.month]).mean()"
   ]
  },
  {
   "cell_type": "code",
   "execution_count": 99,
   "metadata": {},
   "outputs": [
    {
     "data": {
      "text/html": [
       "<div>\n",
       "<style scoped>\n",
       "    .dataframe tbody tr th:only-of-type {\n",
       "        vertical-align: middle;\n",
       "    }\n",
       "\n",
       "    .dataframe tbody tr th {\n",
       "        vertical-align: top;\n",
       "    }\n",
       "\n",
       "    .dataframe thead th {\n",
       "        text-align: right;\n",
       "    }\n",
       "</style>\n",
       "<table border=\"1\" class=\"dataframe\">\n",
       "  <thead>\n",
       "    <tr style=\"text-align: right;\">\n",
       "      <th></th>\n",
       "      <th></th>\n",
       "      <th>Temp</th>\n",
       "    </tr>\n",
       "    <tr>\n",
       "      <th>Date</th>\n",
       "      <th>Date</th>\n",
       "      <th></th>\n",
       "    </tr>\n",
       "  </thead>\n",
       "  <tbody>\n",
       "    <tr>\n",
       "      <th rowspan=\"12\" valign=\"top\">1981</th>\n",
       "      <th>1</th>\n",
       "      <td>17.712903</td>\n",
       "    </tr>\n",
       "    <tr>\n",
       "      <th>2</th>\n",
       "      <td>17.678571</td>\n",
       "    </tr>\n",
       "    <tr>\n",
       "      <th>3</th>\n",
       "      <td>13.500000</td>\n",
       "    </tr>\n",
       "    <tr>\n",
       "      <th>4</th>\n",
       "      <td>12.356667</td>\n",
       "    </tr>\n",
       "    <tr>\n",
       "      <th>5</th>\n",
       "      <td>9.490323</td>\n",
       "    </tr>\n",
       "    <tr>\n",
       "      <th>6</th>\n",
       "      <td>7.306667</td>\n",
       "    </tr>\n",
       "    <tr>\n",
       "      <th>7</th>\n",
       "      <td>7.577419</td>\n",
       "    </tr>\n",
       "    <tr>\n",
       "      <th>8</th>\n",
       "      <td>7.238710</td>\n",
       "    </tr>\n",
       "    <tr>\n",
       "      <th>9</th>\n",
       "      <td>10.143333</td>\n",
       "    </tr>\n",
       "    <tr>\n",
       "      <th>10</th>\n",
       "      <td>10.087097</td>\n",
       "    </tr>\n",
       "    <tr>\n",
       "      <th>11</th>\n",
       "      <td>11.890000</td>\n",
       "    </tr>\n",
       "    <tr>\n",
       "      <th>12</th>\n",
       "      <td>13.680645</td>\n",
       "    </tr>\n",
       "    <tr>\n",
       "      <th rowspan=\"12\" valign=\"top\">1982</th>\n",
       "      <th>1</th>\n",
       "      <td>16.567742</td>\n",
       "    </tr>\n",
       "    <tr>\n",
       "      <th>2</th>\n",
       "      <td>15.921429</td>\n",
       "    </tr>\n",
       "    <tr>\n",
       "      <th>3</th>\n",
       "      <td>14.935484</td>\n",
       "    </tr>\n",
       "    <tr>\n",
       "      <th>4</th>\n",
       "      <td>11.470000</td>\n",
       "    </tr>\n",
       "    <tr>\n",
       "      <th>5</th>\n",
       "      <td>9.583871</td>\n",
       "    </tr>\n",
       "    <tr>\n",
       "      <th>6</th>\n",
       "      <td>5.606667</td>\n",
       "    </tr>\n",
       "    <tr>\n",
       "      <th>7</th>\n",
       "      <td>4.641935</td>\n",
       "    </tr>\n",
       "    <tr>\n",
       "      <th>8</th>\n",
       "      <td>7.903226</td>\n",
       "    </tr>\n",
       "    <tr>\n",
       "      <th>9</th>\n",
       "      <td>7.280000</td>\n",
       "    </tr>\n",
       "    <tr>\n",
       "      <th>10</th>\n",
       "      <td>9.545161</td>\n",
       "    </tr>\n",
       "    <tr>\n",
       "      <th>11</th>\n",
       "      <td>12.486667</td>\n",
       "    </tr>\n",
       "    <tr>\n",
       "      <th>12</th>\n",
       "      <td>13.754839</td>\n",
       "    </tr>\n",
       "  </tbody>\n",
       "</table>\n",
       "</div>"
      ],
      "text/plain": [
       "                Temp\n",
       "Date Date           \n",
       "1981 1     17.712903\n",
       "     2     17.678571\n",
       "     3     13.500000\n",
       "     4     12.356667\n",
       "     5      9.490323\n",
       "     6      7.306667\n",
       "     7      7.577419\n",
       "     8      7.238710\n",
       "     9     10.143333\n",
       "     10    10.087097\n",
       "     11    11.890000\n",
       "     12    13.680645\n",
       "1982 1     16.567742\n",
       "     2     15.921429\n",
       "     3     14.935484\n",
       "     4     11.470000\n",
       "     5      9.583871\n",
       "     6      5.606667\n",
       "     7      4.641935\n",
       "     8      7.903226\n",
       "     9      7.280000\n",
       "     10     9.545161\n",
       "     11    12.486667\n",
       "     12    13.754839"
      ]
     },
     "execution_count": 99,
     "metadata": {},
     "output_type": "execute_result"
    }
   ],
   "source": [
    "mean_temp.head(24)"
   ]
  },
  {
   "cell_type": "code",
   "execution_count": 100,
   "metadata": {},
   "outputs": [
    {
     "data": {
      "image/png": "[encoded data removed]",
      "text/plain": [
       "<Figure size 864x360 with 1 Axes>"
      ]
     },
     "metadata": {
      "needs_background": "light"
     },
     "output_type": "display_data"
    }
   ],
   "source": [
    "mean_temp.plot(figsize=(12,5))\n",
    "plt.show()"
   ]
  },
  {
   "cell_type": "markdown",
   "metadata": {},
   "source": [
    "Другой пример группировки данных:"
   ]
  },
  {
   "cell_type": "code",
   "execution_count": 102,
   "metadata": {},
   "outputs": [],
   "source": [
    "year_temperature = temperature_data.groupby(temperature_data.index.year)"
   ]
  },
  {
   "cell_type": "code",
   "execution_count": 103,
   "metadata": {},
   "outputs": [
    {
     "data": {
      "text/plain": [
       "<pandas.core.groupby.generic.DataFrameGroupBy object at 0x000001BAE526C850>"
      ]
     },
     "execution_count": 103,
     "metadata": {},
     "output_type": "execute_result"
    }
   ],
   "source": [
    "year_temperature"
   ]
  },
  {
   "cell_type": "code",
   "execution_count": 104,
   "metadata": {},
   "outputs": [
    {
     "data": {
      "image/png": "[encoded data removed]",
      "text/plain": [
       "<Figure size 720x720 with 10 Axes>"
      ]
     },
     "metadata": {
      "needs_background": "light"
     },
     "output_type": "display_data"
    }
   ],
   "source": [
    "years = pd.DataFrame()\n",
    "for name, group in year_temperature['Temp']:\n",
    "    years[name] = group.values\n",
    "years.plot(subplots=True, legend=False, figsize=(10,10))\n",
    "plt.show()"
   ]
  },
  {
   "cell_type": "markdown",
   "metadata": {},
   "source": [
    "Группировку последовательно по месяцам/кварталам/годам можно выполнить с помощью метода `resample`. Найдем среднюю температуру воздуха в каждый из месяцев:"
   ]
  },
  {
   "cell_type": "code",
   "execution_count": null,
   "metadata": {},
   "outputs": [],
   "source": [
    "temperature_data.resample('M').mean()"
   ]
  },
  {
   "cell_type": "code",
   "execution_count": null,
   "metadata": {},
   "outputs": [],
   "source": [
    "temperature_data.resample('MS').mean()"
   ]
  },
  {
   "cell_type": "markdown",
   "metadata": {},
   "source": [
    "При агрегации по кварталам используется параметр `Q`. В примере ниже представлены два варианта агрегирования по кварталам. Обратите внимание, что задавать даты с помощью `.loc` можно различными способами."
   ]
  },
  {
   "cell_type": "code",
   "execution_count": null,
   "metadata": {},
   "outputs": [],
   "source": [
    "monthly_temperature = temperature_data.resample('MS').mean()"
   ]
  },
  {
   "cell_type": "code",
   "execution_count": null,
   "metadata": {},
   "outputs": [],
   "source": [
    "first_year = monthly_temperature.loc['1981-01-01':'1981-12-01', 'Temp']\n",
    "first_year.values.reshape(4,3).mean(axis=1)"
   ]
  },
  {
   "cell_type": "code",
   "execution_count": null,
   "metadata": {},
   "outputs": [],
   "source": [
    "second_year = monthly_temperature.loc['1982Q1':'1982Q4', 'Temp']\n",
    "second_year.values.reshape(4,3).mean(axis=1)"
   ]
  },
  {
   "cell_type": "code",
   "execution_count": null,
   "metadata": {},
   "outputs": [],
   "source": [
    "monthly_temperature.resample('Q').mean().head(8)"
   ]
  },
  {
   "cell_type": "markdown",
   "metadata": {},
   "source": [
    "При агрегации по годам используется `Y`."
   ]
  },
  {
   "cell_type": "code",
   "execution_count": null,
   "metadata": {},
   "outputs": [],
   "source": [
    "temperature_data.resample('Y').mean()"
   ]
  }
 ],
 "metadata": {
  "kernelspec": {
   "display_name": "Python 3",
   "language": "python",
   "name": "python3"
  },
  "language_info": {
   "codemirror_mode": {
    "name": "ipython",
    "version": 3
   },
   "file_extension": ".py",
   "mimetype": "text/x-python",
   "name": "python",
   "nbconvert_exporter": "python",
   "pygments_lexer": "ipython3",
   "version": "3.8.5"
  }
 },
 "nbformat": 4,
 "nbformat_minor": 2
}
